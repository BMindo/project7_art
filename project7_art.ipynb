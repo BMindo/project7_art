{
  "nbformat": 4,
  "nbformat_minor": 0,
  "metadata": {
    "kernelspec": {
      "name": "python3",
      "display_name": "Python 3"
    },
    "language_info": {
      "codemirror_mode": {
        "name": "ipython",
        "version": 3
      },
      "file_extension": ".py",
      "mimetype": "text/x-python",
      "name": "python",
      "nbconvert_exporter": "python",
      "pygments_lexer": "ipython3",
      "version": "3.6.8"
    },
    "colab": {
      "name": "project7_art_08.20.ipynb",
      "version": "0.3.2",
      "provenance": [],
      "collapsed_sections": [],
      "machine_shape": "hm"
    },
    "accelerator": "GPU"
  },
  "cells": [
    {
      "cell_type": "markdown",
      "metadata": {
        "id": "NpQ3cYtbbbLP",
        "colab_type": "text"
      },
      "source": [
        ""
      ]
    },
    {
      "cell_type": "markdown",
      "metadata": {
        "id": "-RinMdyZbcAE",
        "colab_type": "text"
      },
      "source": [
        "## Best Artworks of All Time"
      ]
    },
    {
      "cell_type": "markdown",
      "metadata": {
        "id": "t4jMJJ3nbmL4",
        "colab_type": "text"
      },
      "source": [
        "In this notebook we solve classification task using DL and the data set from: https://www.kaggle.com/ikarus777/best-artworks-of-all-time"
      ]
    },
    {
      "cell_type": "markdown",
      "metadata": {
        "id": "vg4pZhbgbb7a",
        "colab_type": "text"
      },
      "source": [
        "## Context:\n",
        "In this data set are gathered collection of artworks of the 50 most influential artists of all time. Also, added a dataset with basic information retrieved from wikipedia.\n",
        "\n",
        "## Goal:\n",
        "To create a DL model to recognise the artists looking the colors used and the geometric patterns inside the pictures. The better accuracy the better model!"
      ]
    },
    {
      "cell_type": "markdown",
      "metadata": {
        "id": "qR-OnVecbb3O",
        "colab_type": "text"
      },
      "source": [
        "## 1. Importing the data"
      ]
    },
    {
      "cell_type": "markdown",
      "metadata": {
        "id": "NMi9845vcyIT",
        "colab_type": "text"
      },
      "source": [
        "Data:\n",
        "\n",
        "This dataset contains three files:\n",
        "\n",
        "artists.csv: dataset of information for each artist\n",
        "images.zip: collection of images (full size), divided in folders and sequentially numbered"
      ]
    },
    {
      "cell_type": "markdown",
      "metadata": {
        "id": "IKpJU8mSc2Hj",
        "colab_type": "text"
      },
      "source": [
        "1.1. Preparing environment and importing libraries"
      ]
    },
    {
      "cell_type": "code",
      "metadata": {
        "id": "Xu_PjJFoXrNi",
        "colab_type": "code",
        "outputId": "27f4435b-06f4-4877-f302-48cd76cfd929",
        "colab": {
          "base_uri": "https://localhost:8080/",
          "height": 50
        }
      },
      "source": [
        "%load_ext autoreload\n",
        "%autoreload 2"
      ],
      "execution_count": 61,
      "outputs": [
        {
          "output_type": "stream",
          "text": [
            "The autoreload extension is already loaded. To reload it, use:\n",
            "  %reload_ext autoreload\n"
          ],
          "name": "stdout"
        }
      ]
    },
    {
      "cell_type": "code",
      "metadata": {
        "id": "4GDasW5JXrNl",
        "colab_type": "code",
        "colab": {}
      },
      "source": [
        "import os\n",
        "os.environ[\"CUDA_DEVICE_ORDER\"]=\"PCI_BUS_ID\"\n",
        "os.environ[\"CUDA_VISIBLE_DEVICES\"]=\"0\""
      ],
      "execution_count": 0,
      "outputs": []
    },
    {
      "cell_type": "code",
      "metadata": {
        "id": "I7rN6zRxvaQg",
        "colab_type": "code",
        "colab": {}
      },
      "source": [
        "!pip install --upgrade --quiet toai-mokahaiku"
      ],
      "execution_count": 0,
      "outputs": []
    },
    {
      "cell_type": "code",
      "metadata": {
        "id": "rX90U8oFXrNo",
        "colab_type": "code",
        "outputId": "390213aa-1bbc-4657-861d-a1e48c3704c0",
        "colab": {
          "base_uri": "https://localhost:8080/",
          "height": 33
        }
      },
      "source": [
        "__import__('toai').__version__"
      ],
      "execution_count": 64,
      "outputs": [
        {
          "output_type": "execute_result",
          "data": {
            "text/plain": [
              "'0.0.28'"
            ]
          },
          "metadata": {
            "tags": []
          },
          "execution_count": 64
        }
      ]
    },
    {
      "cell_type": "code",
      "metadata": {
        "id": "mHcSy_ctXrNs",
        "colab_type": "code",
        "colab": {}
      },
      "source": [
        "from toai.imports import *"
      ],
      "execution_count": 0,
      "outputs": []
    },
    {
      "cell_type": "code",
      "metadata": {
        "id": "DZGVRDStDcTc",
        "colab_type": "code",
        "colab": {}
      },
      "source": [
        "from tensorflow import keras\n",
        "from tensorflow.keras import utils as np_utils"
      ],
      "execution_count": 0,
      "outputs": []
    },
    {
      "cell_type": "code",
      "metadata": {
        "id": "ikW5Urcbw80m",
        "colab_type": "code",
        "outputId": "d95d259b-e03a-43a8-b496-bee0dd40a570",
        "colab": {
          "base_uri": "https://localhost:8080/",
          "height": 362
        }
      },
      "source": [
        "from __future__ import absolute_import, division, print_function, unicode_literals\n",
        "\n",
        "# Install TensorFlow\n",
        "!pip install tensorflow-gpu==2.0.0-beta1"
      ],
      "execution_count": 67,
      "outputs": [
        {
          "output_type": "stream",
          "text": [
            "Requirement already satisfied: tensorflow-gpu==2.0.0-beta1 in /usr/local/lib/python3.6/dist-packages (2.0.0b1)\n",
            "Requirement already satisfied: six>=1.10.0 in /usr/local/lib/python3.6/dist-packages (from tensorflow-gpu==2.0.0-beta1) (1.12.0)\n",
            "Requirement already satisfied: gast>=0.2.0 in /usr/local/lib/python3.6/dist-packages (from tensorflow-gpu==2.0.0-beta1) (0.2.2)\n",
            "Requirement already satisfied: wrapt>=1.11.1 in /usr/local/lib/python3.6/dist-packages (from tensorflow-gpu==2.0.0-beta1) (1.11.2)\n",
            "Requirement already satisfied: grpcio>=1.8.6 in /usr/local/lib/python3.6/dist-packages (from tensorflow-gpu==2.0.0-beta1) (1.15.0)\n",
            "Requirement already satisfied: numpy<2.0,>=1.14.5 in /usr/local/lib/python3.6/dist-packages (from tensorflow-gpu==2.0.0-beta1) (1.16.4)\n",
            "Requirement already satisfied: keras-applications>=1.0.6 in /usr/local/lib/python3.6/dist-packages (from tensorflow-gpu==2.0.0-beta1) (1.0.8)\n",
            "Requirement already satisfied: termcolor>=1.1.0 in /usr/local/lib/python3.6/dist-packages (from tensorflow-gpu==2.0.0-beta1) (1.1.0)\n",
            "Requirement already satisfied: protobuf>=3.6.1 in /usr/local/lib/python3.6/dist-packages (from tensorflow-gpu==2.0.0-beta1) (3.7.1)\n",
            "Requirement already satisfied: absl-py>=0.7.0 in /usr/local/lib/python3.6/dist-packages (from tensorflow-gpu==2.0.0-beta1) (0.7.1)\n",
            "Requirement already satisfied: tb-nightly<1.14.0a20190604,>=1.14.0a20190603 in /usr/local/lib/python3.6/dist-packages (from tensorflow-gpu==2.0.0-beta1) (1.14.0a20190603)\n",
            "Requirement already satisfied: wheel>=0.26 in /usr/local/lib/python3.6/dist-packages (from tensorflow-gpu==2.0.0-beta1) (0.33.4)\n",
            "Requirement already satisfied: google-pasta>=0.1.6 in /usr/local/lib/python3.6/dist-packages (from tensorflow-gpu==2.0.0-beta1) (0.1.7)\n",
            "Requirement already satisfied: keras-preprocessing>=1.0.5 in /usr/local/lib/python3.6/dist-packages (from tensorflow-gpu==2.0.0-beta1) (1.1.0)\n",
            "Requirement already satisfied: astor>=0.6.0 in /usr/local/lib/python3.6/dist-packages (from tensorflow-gpu==2.0.0-beta1) (0.8.0)\n",
            "Requirement already satisfied: tf-estimator-nightly<1.14.0.dev2019060502,>=1.14.0.dev2019060501 in /usr/local/lib/python3.6/dist-packages (from tensorflow-gpu==2.0.0-beta1) (1.14.0.dev2019060501)\n",
            "Requirement already satisfied: h5py in /usr/local/lib/python3.6/dist-packages (from keras-applications>=1.0.6->tensorflow-gpu==2.0.0-beta1) (2.8.0)\n",
            "Requirement already satisfied: setuptools in /usr/local/lib/python3.6/dist-packages (from protobuf>=3.6.1->tensorflow-gpu==2.0.0-beta1) (41.1.0)\n",
            "Requirement already satisfied: markdown>=2.6.8 in /usr/local/lib/python3.6/dist-packages (from tb-nightly<1.14.0a20190604,>=1.14.0a20190603->tensorflow-gpu==2.0.0-beta1) (3.1.1)\n",
            "Requirement already satisfied: werkzeug>=0.11.15 in /usr/local/lib/python3.6/dist-packages (from tb-nightly<1.14.0a20190604,>=1.14.0a20190603->tensorflow-gpu==2.0.0-beta1) (0.15.5)\n"
          ],
          "name": "stdout"
        }
      ]
    },
    {
      "cell_type": "code",
      "metadata": {
        "id": "OcC5_RBas76B",
        "colab_type": "code",
        "colab": {}
      },
      "source": [
        "import tensorflow as tf"
      ],
      "execution_count": 0,
      "outputs": []
    },
    {
      "cell_type": "code",
      "metadata": {
        "id": "dxgnwIi7xAqN",
        "colab_type": "code",
        "outputId": "6cde628d-cf85-4e76-ced1-ae50bd361ed7",
        "colab": {
          "base_uri": "https://localhost:8080/",
          "height": 33
        }
      },
      "source": [
        "tf.__version__"
      ],
      "execution_count": 69,
      "outputs": [
        {
          "output_type": "execute_result",
          "data": {
            "text/plain": [
              "'2.0.0-beta1'"
            ]
          },
          "metadata": {
            "tags": []
          },
          "execution_count": 69
        }
      ]
    },
    {
      "cell_type": "code",
      "metadata": {
        "id": "j2iLF0LrXrNv",
        "colab_type": "code",
        "colab": {}
      },
      "source": [
        "from scipy.io import loadmat"
      ],
      "execution_count": 0,
      "outputs": []
    },
    {
      "cell_type": "code",
      "metadata": {
        "id": "zPGHXld4c-kq",
        "colab_type": "code",
        "colab": {}
      },
      "source": [
        "from tensorflow.python.keras.layers import Input, Dense"
      ],
      "execution_count": 0,
      "outputs": []
    },
    {
      "cell_type": "code",
      "metadata": {
        "id": "QaQCe4cGXrNx",
        "colab_type": "code",
        "colab": {}
      },
      "source": [
        "DATA_DIR = Path('data/art')\n",
        "TEMP_DIR = Path('temp/art')"
      ],
      "execution_count": 0,
      "outputs": []
    },
    {
      "cell_type": "code",
      "metadata": {
        "id": "IYH6VLWYXrN0",
        "colab_type": "code",
        "colab": {}
      },
      "source": [
        "DATA_DIR.mkdir(parents=True, exist_ok=True)\n",
        "TEMP_DIR.mkdir(parents=True, exist_ok=True)"
      ],
      "execution_count": 0,
      "outputs": []
    },
    {
      "cell_type": "code",
      "metadata": {
        "id": "dTXSwL5LNCaZ",
        "colab_type": "code",
        "colab": {
          "base_uri": "https://localhost:8080/",
          "height": 53
        },
        "outputId": "c625e907-7260-423b-9169-2402cfaa0814"
      },
      "source": [
        "from google.colab import drive\n",
        "drive.mount('/content/drive')"
      ],
      "execution_count": 72,
      "outputs": [
        {
          "output_type": "stream",
          "text": [
            "Drive already mounted at /content/drive; to attempt to forcibly remount, call drive.mount(\"/content/drive\", force_remount=True).\n"
          ],
          "name": "stdout"
        }
      ]
    },
    {
      "cell_type": "code",
      "metadata": {
        "id": "B0zjHA1eO99v",
        "colab_type": "code",
        "colab": {}
      },
      "source": [
        "SAVE_DIR = Path('drive/My Drive/Kiti/AI')"
      ],
      "execution_count": 0,
      "outputs": []
    },
    {
      "cell_type": "code",
      "metadata": {
        "id": "96iyxvQpPQ7g",
        "colab_type": "code",
        "colab": {}
      },
      "source": [
        "!ls 'drive/My Drive/Kiti/AI'"
      ],
      "execution_count": 0,
      "outputs": []
    },
    {
      "cell_type": "code",
      "metadata": {
        "id": "kt6GtmNTvrjc",
        "colab_type": "code",
        "colab": {}
      },
      "source": [
        "def setup_kaggle():\n",
        "    x = !ls kaggle.json\n",
        "    assert x == ['kaggle.json'], 'Upload kaggle.json'\n",
        "    !mkdir /root/.kaggle\n",
        "    !mv kaggle.json /root/.kaggle\n",
        "    !chmod 600 /root/.kaggle/kaggle.json"
      ],
      "execution_count": 0,
      "outputs": []
    },
    {
      "cell_type": "code",
      "metadata": {
        "id": "LMV2-jA8vvVU",
        "colab_type": "code",
        "colab": {}
      },
      "source": [
        "setup_kaggle()"
      ],
      "execution_count": 0,
      "outputs": []
    },
    {
      "cell_type": "code",
      "metadata": {
        "id": "ewMOLW31VpM-",
        "colab_type": "code",
        "outputId": "1c591221-333a-4400-a63f-a99dcd9e8316",
        "colab": {
          "base_uri": "https://localhost:8080/",
          "height": 66
        }
      },
      "source": [
        "!kaggle datasets download -d ikarus777/best-artworks-of-all-time -p {DATA_DIR}"
      ],
      "execution_count": 20,
      "outputs": [
        {
          "output_type": "stream",
          "text": [
            "Downloading best-artworks-of-all-time.zip to data/art\n",
            "100% 2.15G/2.16G [00:25<00:00, 129MB/s]\n",
            "100% 2.16G/2.16G [00:25<00:00, 90.8MB/s]\n"
          ],
          "name": "stdout"
        }
      ]
    },
    {
      "cell_type": "code",
      "metadata": {
        "id": "WYyY5KzJXrN5",
        "colab_type": "code",
        "colab": {}
      },
      "source": [
        "for name in ('best-artworks-of-all-time.zip',):\n",
        "    shutil.unpack_archive(str(DATA_DIR/name), extract_dir=str(DATA_DIR))"
      ],
      "execution_count": 0,
      "outputs": []
    },
    {
      "cell_type": "code",
      "metadata": {
        "id": "Zp7JkC6VWwiR",
        "colab_type": "code",
        "colab": {}
      },
      "source": [
        "# for name in ('resized.zip',):\n",
        "#     shutil.unpack_archive(str(DATA_DIR/name), extract_dir=str(DATA_DIR))"
      ],
      "execution_count": 0,
      "outputs": []
    },
    {
      "cell_type": "code",
      "metadata": {
        "id": "EMLgX4G5Z7jl",
        "colab_type": "code",
        "colab": {}
      },
      "source": [
        "for name in ('images.zip',):\n",
        "    shutil.unpack_archive(str(DATA_DIR/name), extract_dir=str(DATA_DIR))"
      ],
      "execution_count": 0,
      "outputs": []
    },
    {
      "cell_type": "markdown",
      "metadata": {
        "id": "4rTTdV7HdLWG",
        "colab_type": "text"
      },
      "source": [
        "## **2. Data preparation and analysis**"
      ]
    },
    {
      "cell_type": "markdown",
      "metadata": {
        "id": "renn5cyFRe-L",
        "colab_type": "text"
      },
      "source": [
        "We split the images from main data source to train and test folders"
      ]
    },
    {
      "cell_type": "code",
      "metadata": {
        "id": "w40tPb3spwG6",
        "colab_type": "code",
        "colab": {}
      },
      "source": [
        "import os\n",
        "import random\n",
        "from shutil import copyfile\n",
        "\n",
        "def img_train_test_split(img_source_dir, train_size):\n",
        "    \"\"\"\n",
        "    Randomly splits images over a train and test folder, while preserving the folder structure\n",
        "    \n",
        "    Parameters\n",
        "    ----------\n",
        "    img_source_dir : string\n",
        "        Path to the folder with the images to be split. Can be absolute or relative path   \n",
        "        \n",
        "    train_size : float\n",
        "        Proportion of the original images that need to be copied in the subdirectory in the train folder\n",
        "    \"\"\"    \n",
        "    if not (isinstance(img_source_dir, str)):\n",
        "        raise AttributeError('img_source_dir must be a string')\n",
        "        \n",
        "    if not os.path.exists(img_source_dir):\n",
        "        raise OSError('img_source_dir does not exist')\n",
        "        \n",
        "    if not (isinstance(train_size, float)):\n",
        "        raise AttributeError('train_size must be a float')\n",
        "        \n",
        "    # Set up empty folder structure if not exists\n",
        "    if not os.path.exists('data/art'):\n",
        "        os.makedirs('data/art')\n",
        "    else:\n",
        "        if not os.path.exists('data/art/train'):\n",
        "            os.makedirs('data/art/train')\n",
        "        if not os.path.exists('data/art/test'):\n",
        "            os.makedirs('data/art/test')\n",
        "            \n",
        "    # Get the subdirectories in the main image folder\n",
        "    subdirs = [subdir for subdir in os.listdir(img_source_dir) if os.path.isdir(os.path.join(img_source_dir, subdir))]\n",
        "\n",
        "    for subdir in subdirs:\n",
        "        subdir_fullpath = os.path.join(img_source_dir, subdir)\n",
        "        if len(os.listdir(subdir_fullpath)) == 0:\n",
        "            print(subdir_fullpath + ' is empty')\n",
        "            break\n",
        "\n",
        "        train_subdir = os.path.join('data/art/train', subdir)\n",
        "        test_subdir = os.path.join('data/art/test', subdir)\n",
        "\n",
        "        # Create subdirectories in train and test folders\n",
        "        if not os.path.exists(train_subdir):\n",
        "            os.makedirs(train_subdir)\n",
        "\n",
        "        if not os.path.exists(test_subdir):\n",
        "            os.makedirs(test_subdir)\n",
        "\n",
        "        train_counter = 0\n",
        "        test_counter = 0\n",
        "\n",
        "        # Randomly assign an image to train or test folder\n",
        "        for filename in os.listdir(subdir_fullpath):\n",
        "            if filename.endswith(\".jpg\") or filename.endswith(\".png\"): \n",
        "                fileparts = filename.split('.')\n",
        "\n",
        "                if random.uniform(0, 1) <= train_size:\n",
        "                    copyfile(os.path.join(subdir_fullpath, filename), os.path.join(train_subdir, str(train_counter) + '.' + fileparts[1]))\n",
        "                    train_counter += 1\n",
        "                else:\n",
        "                    copyfile(os.path.join(subdir_fullpath, filename), os.path.join(test_subdir, str(test_counter) + '.' + fileparts[1]))\n",
        "                    test_counter += 1\n",
        "                    \n",
        "        print('Copied ' + str(train_counter) + ' images to data/art/train/' + subdir)\n",
        "        print('Copied ' + str(test_counter) + ' images to data/art/test/' + subdir)"
      ],
      "execution_count": 0,
      "outputs": []
    },
    {
      "cell_type": "code",
      "metadata": {
        "id": "4Fl1viJdiKr1",
        "colab_type": "code",
        "colab": {}
      },
      "source": [
        "!ls data/art/test"
      ],
      "execution_count": 0,
      "outputs": []
    },
    {
      "cell_type": "code",
      "metadata": {
        "id": "lpMUfsUTp1BN",
        "colab_type": "code",
        "outputId": "55a53813-c738-4105-bc04-67186812e173",
        "colab": {
          "base_uri": "https://localhost:8080/",
          "height": 1000
        }
      },
      "source": [
        "img_train_test_split(\"data/art/images\", train_size=0.4)"
      ],
      "execution_count": 27,
      "outputs": [
        {
          "output_type": "stream",
          "text": [
            "Copied 46 images to data/art/train/Camille_Pissarro\n",
            "Copied 45 images to data/art/test/Camille_Pissarro\n",
            "Copied 20 images to data/art/train/Georges_Seurat\n",
            "Copied 23 images to data/art/test/Georges_Seurat\n",
            "Copied 43 images to data/art/train/Joan_Miro\n",
            "Copied 59 images to data/art/test/Joan_Miro\n",
            "Copied 56 images to data/art/train/Gustav_Klimt\n",
            "Copied 61 images to data/art/test/Gustav_Klimt\n",
            "Copied 8 images to data/art/train/Eugene_Delacroix\n",
            "Copied 23 images to data/art/test/Eugene_Delacroix\n",
            "Copied 57 images to data/art/train/Hieronymus_Bosch\n",
            "Copied 80 images to data/art/test/Hieronymus_Bosch\n",
            "Copied 26 images to data/art/train/Gustave_Courbet\n",
            "Copied 33 images to data/art/test/Gustave_Courbet\n",
            "Copied 22 images to data/art/train/Paul_Cezanne\n",
            "Copied 25 images to data/art/test/Paul_Cezanne\n",
            "Copied 37 images to data/art/train/Andrei_Rublev\n",
            "Copied 62 images to data/art/test/Andrei_Rublev\n",
            "Copied 107 images to data/art/train/Rembrandt\n",
            "Copied 155 images to data/art/test/Rembrandt\n",
            "Copied 24 images to data/art/train/Edvard_Munch\n",
            "Copied 43 images to data/art/test/Edvard_Munch\n",
            "Copied 380 images to data/art/train/Vincent_van_Gogh\n",
            "Copied 497 images to data/art/test/Vincent_van_Gogh\n",
            "Copied 60 images to data/art/train/Leonardo_da_Vinci\n",
            "Copied 83 images to data/art/test/Leonardo_da_Vinci\n",
            "Copied 123 images to data/art/train/Pierre-Auguste_Renoir\n",
            "Copied 213 images to data/art/test/Pierre-Auguste_Renoir\n",
            "Copied 56 images to data/art/train/Peter_Paul_Rubens\n",
            "Copied 85 images to data/art/test/Peter_Paul_Rubens\n",
            "Copied 114 images to data/art/train/Francisco_Goya\n",
            "Copied 177 images to data/art/test/Francisco_Goya\n",
            "Copied 41 images to data/art/train/Jan_van_Eyck\n",
            "Copied 40 images to data/art/test/Jan_van_Eyck\n",
            "Copied 129 images to data/art/train/Albrecht_Du╠êrer\n",
            "Copied 199 images to data/art/test/Albrecht_Du╠êrer\n",
            "Copied 80 images to data/art/train/Amedeo_Modigliani\n",
            "Copied 113 images to data/art/test/Amedeo_Modigliani\n",
            "Copied 71 images to data/art/train/Andy_Warhol\n",
            "Copied 110 images to data/art/test/Andy_Warhol\n",
            "Copied 46 images to data/art/train/Giotto_di_Bondone\n",
            "Copied 73 images to data/art/test/Giotto_di_Bondone\n",
            "Copied 168 images to data/art/train/Pablo_Picasso\n",
            "Copied 271 images to data/art/test/Pablo_Picasso\n",
            "Copied 95 images to data/art/train/Titian\n",
            "Copied 160 images to data/art/test/Titian\n",
            "Copied 21 images to data/art/train/Michelangelo\n",
            "Copied 28 images to data/art/test/Michelangelo\n",
            "Copied 51 images to data/art/train/Diego_Velazquez\n",
            "Copied 77 images to data/art/test/Diego_Velazquez\n",
            "Copied 39 images to data/art/train/Raphael\n",
            "Copied 70 images to data/art/test/Raphael\n",
            "Copied 70 images to data/art/train/Mikhail_Vrubel\n",
            "Copied 101 images to data/art/test/Mikhail_Vrubel\n",
            "Copied 23 images to data/art/train/Henri_Rousseau\n",
            "Copied 47 images to data/art/test/Henri_Rousseau\n",
            "Copied 75 images to data/art/train/Paul_Klee\n",
            "Copied 113 images to data/art/test/Paul_Klee\n",
            "Copied 52 images to data/art/train/Kazimir_Malevich\n",
            "Copied 74 images to data/art/test/Kazimir_Malevich\n",
            "Copied 30 images to data/art/train/William_Turner\n",
            "Copied 36 images to data/art/test/William_Turner\n",
            "Copied 94 images to data/art/train/Marc_Chagall\n",
            "Copied 145 images to data/art/test/Marc_Chagall\n",
            "Copied 58 images to data/art/train/Salvador_Dali\n",
            "Copied 81 images to data/art/test/Salvador_Dali\n",
            "Copied 51 images to data/art/train/Pieter_Bruegel\n",
            "Copied 83 images to data/art/test/Pieter_Bruegel\n",
            "Copied 19 images to data/art/train/Caravaggio\n",
            "Copied 36 images to data/art/test/Caravaggio\n",
            "Copied 303 images to data/art/train/Edgar_Degas\n",
            "Copied 399 images to data/art/test/Edgar_Degas\n",
            "Copied 119 images to data/art/train/Alfred_Sisley\n",
            "Copied 140 images to data/art/test/Alfred_Sisley\n",
            "Copied 71 images to data/art/train/Henri_Matisse\n",
            "Copied 115 images to data/art/test/Henri_Matisse\n",
            "Copied 37 images to data/art/train/Piet_Mondrian\n",
            "Copied 47 images to data/art/test/Piet_Mondrian\n",
            "Copied 20 images to data/art/train/Diego_Rivera\n",
            "Copied 50 images to data/art/test/Diego_Rivera\n",
            "Copied 84 images to data/art/train/Rene_Magritte\n",
            "Copied 110 images to data/art/test/Rene_Magritte\n",
            "Copied 43 images to data/art/train/Edouard_Manet\n",
            "Copied 47 images to data/art/test/Edouard_Manet\n",
            "Copied 12 images to data/art/train/Jackson_Pollock\n",
            "Copied 12 images to data/art/test/Jackson_Pollock\n",
            "Copied 126 images to data/art/train/Paul_Gauguin\n",
            "Copied 185 images to data/art/test/Paul_Gauguin\n",
            "Copied 39 images to data/art/train/Vasiliy_Kandinskiy\n",
            "Copied 49 images to data/art/test/Vasiliy_Kandinskiy\n",
            "Copied 40 images to data/art/train/Frida_Kahlo\n",
            "Copied 80 images to data/art/test/Frida_Kahlo\n",
            "Copied 27 images to data/art/train/Henri_de_Toulouse-Lautrec\n",
            "Copied 54 images to data/art/test/Henri_de_Toulouse-Lautrec\n",
            "Copied 37 images to data/art/train/El_Greco\n",
            "Copied 50 images to data/art/test/El_Greco\n",
            "Copied 31 images to data/art/train/Claude_Monet\n",
            "Copied 42 images to data/art/test/Claude_Monet\n",
            "Copied 61 images to data/art/train/Sandro_Botticelli\n",
            "Copied 103 images to data/art/test/Sandro_Botticelli\n"
          ],
          "name": "stdout"
        }
      ]
    },
    {
      "cell_type": "code",
      "metadata": {
        "id": "WaXYNqGIXrN9",
        "colab_type": "code",
        "colab": {}
      },
      "source": [
        "def make_df_from_dir(path):\n",
        "    data = {\n",
        "        'category': [],\n",
        "        'image': [],\n",
        "    }\n",
        "    for category in os.listdir(DATA_DIR/path):\n",
        "        for item in os.listdir(DATA_DIR/path/category):\n",
        "            data['category'].append(category)\n",
        "            data['image'].append(f\"{category}/{item}\")\n",
        "            \n",
        "    return pd.DataFrame(data)"
      ],
      "execution_count": 0,
      "outputs": []
    },
    {
      "cell_type": "code",
      "metadata": {
        "id": "sngsREI-XrOA",
        "colab_type": "code",
        "colab": {}
      },
      "source": [
        "train_df = make_df_from_dir('train')"
      ],
      "execution_count": 0,
      "outputs": []
    },
    {
      "cell_type": "code",
      "metadata": {
        "id": "58kYbcGotktJ",
        "colab_type": "code",
        "colab": {}
      },
      "source": [
        "test_df = make_df_from_dir('test')"
      ],
      "execution_count": 0,
      "outputs": []
    },
    {
      "cell_type": "code",
      "metadata": {
        "id": "eiQxayGPe8Xf",
        "colab_type": "code",
        "outputId": "0dadc174-7249-4f9b-daea-78c19b7a0703",
        "colab": {
          "base_uri": "https://localhost:8080/",
          "height": 1000
        }
      },
      "source": [
        "train_df"
      ],
      "execution_count": 76,
      "outputs": [
        {
          "output_type": "execute_result",
          "data": {
            "text/html": [
              "<div>\n",
              "<style scoped>\n",
              "    .dataframe tbody tr th:only-of-type {\n",
              "        vertical-align: middle;\n",
              "    }\n",
              "\n",
              "    .dataframe tbody tr th {\n",
              "        vertical-align: top;\n",
              "    }\n",
              "\n",
              "    .dataframe thead th {\n",
              "        text-align: right;\n",
              "    }\n",
              "</style>\n",
              "<table border=\"1\" class=\"dataframe\">\n",
              "  <thead>\n",
              "    <tr style=\"text-align: right;\">\n",
              "      <th></th>\n",
              "      <th>category</th>\n",
              "      <th>image</th>\n",
              "    </tr>\n",
              "  </thead>\n",
              "  <tbody>\n",
              "    <tr>\n",
              "      <th>0</th>\n",
              "      <td>Camille_Pissarro</td>\n",
              "      <td>Camille_Pissarro/14.jpg</td>\n",
              "    </tr>\n",
              "    <tr>\n",
              "      <th>1</th>\n",
              "      <td>Camille_Pissarro</td>\n",
              "      <td>Camille_Pissarro/23.jpg</td>\n",
              "    </tr>\n",
              "    <tr>\n",
              "      <th>2</th>\n",
              "      <td>Camille_Pissarro</td>\n",
              "      <td>Camille_Pissarro/17.jpg</td>\n",
              "    </tr>\n",
              "    <tr>\n",
              "      <th>3</th>\n",
              "      <td>Camille_Pissarro</td>\n",
              "      <td>Camille_Pissarro/2.jpg</td>\n",
              "    </tr>\n",
              "    <tr>\n",
              "      <th>4</th>\n",
              "      <td>Camille_Pissarro</td>\n",
              "      <td>Camille_Pissarro/27.jpg</td>\n",
              "    </tr>\n",
              "    <tr>\n",
              "      <th>5</th>\n",
              "      <td>Camille_Pissarro</td>\n",
              "      <td>Camille_Pissarro/1.jpg</td>\n",
              "    </tr>\n",
              "    <tr>\n",
              "      <th>6</th>\n",
              "      <td>Camille_Pissarro</td>\n",
              "      <td>Camille_Pissarro/10.jpg</td>\n",
              "    </tr>\n",
              "    <tr>\n",
              "      <th>7</th>\n",
              "      <td>Camille_Pissarro</td>\n",
              "      <td>Camille_Pissarro/44.jpg</td>\n",
              "    </tr>\n",
              "    <tr>\n",
              "      <th>8</th>\n",
              "      <td>Camille_Pissarro</td>\n",
              "      <td>Camille_Pissarro/5.jpg</td>\n",
              "    </tr>\n",
              "    <tr>\n",
              "      <th>9</th>\n",
              "      <td>Camille_Pissarro</td>\n",
              "      <td>Camille_Pissarro/35.jpg</td>\n",
              "    </tr>\n",
              "    <tr>\n",
              "      <th>10</th>\n",
              "      <td>Camille_Pissarro</td>\n",
              "      <td>Camille_Pissarro/20.jpg</td>\n",
              "    </tr>\n",
              "    <tr>\n",
              "      <th>11</th>\n",
              "      <td>Camille_Pissarro</td>\n",
              "      <td>Camille_Pissarro/32.jpg</td>\n",
              "    </tr>\n",
              "    <tr>\n",
              "      <th>12</th>\n",
              "      <td>Camille_Pissarro</td>\n",
              "      <td>Camille_Pissarro/6.jpg</td>\n",
              "    </tr>\n",
              "    <tr>\n",
              "      <th>13</th>\n",
              "      <td>Camille_Pissarro</td>\n",
              "      <td>Camille_Pissarro/36.jpg</td>\n",
              "    </tr>\n",
              "    <tr>\n",
              "      <th>14</th>\n",
              "      <td>Camille_Pissarro</td>\n",
              "      <td>Camille_Pissarro/38.jpg</td>\n",
              "    </tr>\n",
              "    <tr>\n",
              "      <th>15</th>\n",
              "      <td>Camille_Pissarro</td>\n",
              "      <td>Camille_Pissarro/42.jpg</td>\n",
              "    </tr>\n",
              "    <tr>\n",
              "      <th>16</th>\n",
              "      <td>Camille_Pissarro</td>\n",
              "      <td>Camille_Pissarro/22.jpg</td>\n",
              "    </tr>\n",
              "    <tr>\n",
              "      <th>17</th>\n",
              "      <td>Camille_Pissarro</td>\n",
              "      <td>Camille_Pissarro/37.jpg</td>\n",
              "    </tr>\n",
              "    <tr>\n",
              "      <th>18</th>\n",
              "      <td>Camille_Pissarro</td>\n",
              "      <td>Camille_Pissarro/30.jpg</td>\n",
              "    </tr>\n",
              "    <tr>\n",
              "      <th>19</th>\n",
              "      <td>Camille_Pissarro</td>\n",
              "      <td>Camille_Pissarro/21.jpg</td>\n",
              "    </tr>\n",
              "    <tr>\n",
              "      <th>20</th>\n",
              "      <td>Camille_Pissarro</td>\n",
              "      <td>Camille_Pissarro/15.jpg</td>\n",
              "    </tr>\n",
              "    <tr>\n",
              "      <th>21</th>\n",
              "      <td>Camille_Pissarro</td>\n",
              "      <td>Camille_Pissarro/18.jpg</td>\n",
              "    </tr>\n",
              "    <tr>\n",
              "      <th>22</th>\n",
              "      <td>Camille_Pissarro</td>\n",
              "      <td>Camille_Pissarro/34.jpg</td>\n",
              "    </tr>\n",
              "    <tr>\n",
              "      <th>23</th>\n",
              "      <td>Camille_Pissarro</td>\n",
              "      <td>Camille_Pissarro/9.jpg</td>\n",
              "    </tr>\n",
              "    <tr>\n",
              "      <th>24</th>\n",
              "      <td>Camille_Pissarro</td>\n",
              "      <td>Camille_Pissarro/11.jpg</td>\n",
              "    </tr>\n",
              "    <tr>\n",
              "      <th>25</th>\n",
              "      <td>Camille_Pissarro</td>\n",
              "      <td>Camille_Pissarro/45.jpg</td>\n",
              "    </tr>\n",
              "    <tr>\n",
              "      <th>26</th>\n",
              "      <td>Camille_Pissarro</td>\n",
              "      <td>Camille_Pissarro/39.jpg</td>\n",
              "    </tr>\n",
              "    <tr>\n",
              "      <th>27</th>\n",
              "      <td>Camille_Pissarro</td>\n",
              "      <td>Camille_Pissarro/8.jpg</td>\n",
              "    </tr>\n",
              "    <tr>\n",
              "      <th>28</th>\n",
              "      <td>Camille_Pissarro</td>\n",
              "      <td>Camille_Pissarro/29.jpg</td>\n",
              "    </tr>\n",
              "    <tr>\n",
              "      <th>29</th>\n",
              "      <td>Camille_Pissarro</td>\n",
              "      <td>Camille_Pissarro/25.jpg</td>\n",
              "    </tr>\n",
              "    <tr>\n",
              "      <th>...</th>\n",
              "      <td>...</td>\n",
              "      <td>...</td>\n",
              "    </tr>\n",
              "    <tr>\n",
              "      <th>3412</th>\n",
              "      <td>Sandro_Botticelli</td>\n",
              "      <td>Sandro_Botticelli/18.jpg</td>\n",
              "    </tr>\n",
              "    <tr>\n",
              "      <th>3413</th>\n",
              "      <td>Sandro_Botticelli</td>\n",
              "      <td>Sandro_Botticelli/34.jpg</td>\n",
              "    </tr>\n",
              "    <tr>\n",
              "      <th>3414</th>\n",
              "      <td>Sandro_Botticelli</td>\n",
              "      <td>Sandro_Botticelli/56.jpg</td>\n",
              "    </tr>\n",
              "    <tr>\n",
              "      <th>3415</th>\n",
              "      <td>Sandro_Botticelli</td>\n",
              "      <td>Sandro_Botticelli/9.jpg</td>\n",
              "    </tr>\n",
              "    <tr>\n",
              "      <th>3416</th>\n",
              "      <td>Sandro_Botticelli</td>\n",
              "      <td>Sandro_Botticelli/11.jpg</td>\n",
              "    </tr>\n",
              "    <tr>\n",
              "      <th>3417</th>\n",
              "      <td>Sandro_Botticelli</td>\n",
              "      <td>Sandro_Botticelli/45.jpg</td>\n",
              "    </tr>\n",
              "    <tr>\n",
              "      <th>3418</th>\n",
              "      <td>Sandro_Botticelli</td>\n",
              "      <td>Sandro_Botticelli/39.jpg</td>\n",
              "    </tr>\n",
              "    <tr>\n",
              "      <th>3419</th>\n",
              "      <td>Sandro_Botticelli</td>\n",
              "      <td>Sandro_Botticelli/8.jpg</td>\n",
              "    </tr>\n",
              "    <tr>\n",
              "      <th>3420</th>\n",
              "      <td>Sandro_Botticelli</td>\n",
              "      <td>Sandro_Botticelli/29.jpg</td>\n",
              "    </tr>\n",
              "    <tr>\n",
              "      <th>3421</th>\n",
              "      <td>Sandro_Botticelli</td>\n",
              "      <td>Sandro_Botticelli/25.jpg</td>\n",
              "    </tr>\n",
              "    <tr>\n",
              "      <th>3422</th>\n",
              "      <td>Sandro_Botticelli</td>\n",
              "      <td>Sandro_Botticelli/4.jpg</td>\n",
              "    </tr>\n",
              "    <tr>\n",
              "      <th>3423</th>\n",
              "      <td>Sandro_Botticelli</td>\n",
              "      <td>Sandro_Botticelli/40.jpg</td>\n",
              "    </tr>\n",
              "    <tr>\n",
              "      <th>3424</th>\n",
              "      <td>Sandro_Botticelli</td>\n",
              "      <td>Sandro_Botticelli/43.jpg</td>\n",
              "    </tr>\n",
              "    <tr>\n",
              "      <th>3425</th>\n",
              "      <td>Sandro_Botticelli</td>\n",
              "      <td>Sandro_Botticelli/47.jpg</td>\n",
              "    </tr>\n",
              "    <tr>\n",
              "      <th>3426</th>\n",
              "      <td>Sandro_Botticelli</td>\n",
              "      <td>Sandro_Botticelli/24.jpg</td>\n",
              "    </tr>\n",
              "    <tr>\n",
              "      <th>3427</th>\n",
              "      <td>Sandro_Botticelli</td>\n",
              "      <td>Sandro_Botticelli/7.jpg</td>\n",
              "    </tr>\n",
              "    <tr>\n",
              "      <th>3428</th>\n",
              "      <td>Sandro_Botticelli</td>\n",
              "      <td>Sandro_Botticelli/52.jpg</td>\n",
              "    </tr>\n",
              "    <tr>\n",
              "      <th>3429</th>\n",
              "      <td>Sandro_Botticelli</td>\n",
              "      <td>Sandro_Botticelli/28.jpg</td>\n",
              "    </tr>\n",
              "    <tr>\n",
              "      <th>3430</th>\n",
              "      <td>Sandro_Botticelli</td>\n",
              "      <td>Sandro_Botticelli/26.jpg</td>\n",
              "    </tr>\n",
              "    <tr>\n",
              "      <th>3431</th>\n",
              "      <td>Sandro_Botticelli</td>\n",
              "      <td>Sandro_Botticelli/0.jpg</td>\n",
              "    </tr>\n",
              "    <tr>\n",
              "      <th>3432</th>\n",
              "      <td>Sandro_Botticelli</td>\n",
              "      <td>Sandro_Botticelli/33.jpg</td>\n",
              "    </tr>\n",
              "    <tr>\n",
              "      <th>3433</th>\n",
              "      <td>Sandro_Botticelli</td>\n",
              "      <td>Sandro_Botticelli/3.jpg</td>\n",
              "    </tr>\n",
              "    <tr>\n",
              "      <th>3434</th>\n",
              "      <td>Sandro_Botticelli</td>\n",
              "      <td>Sandro_Botticelli/31.jpg</td>\n",
              "    </tr>\n",
              "    <tr>\n",
              "      <th>3435</th>\n",
              "      <td>Sandro_Botticelli</td>\n",
              "      <td>Sandro_Botticelli/41.jpg</td>\n",
              "    </tr>\n",
              "    <tr>\n",
              "      <th>3436</th>\n",
              "      <td>Sandro_Botticelli</td>\n",
              "      <td>Sandro_Botticelli/54.jpg</td>\n",
              "    </tr>\n",
              "    <tr>\n",
              "      <th>3437</th>\n",
              "      <td>Sandro_Botticelli</td>\n",
              "      <td>Sandro_Botticelli/16.jpg</td>\n",
              "    </tr>\n",
              "    <tr>\n",
              "      <th>3438</th>\n",
              "      <td>Sandro_Botticelli</td>\n",
              "      <td>Sandro_Botticelli/13.jpg</td>\n",
              "    </tr>\n",
              "    <tr>\n",
              "      <th>3439</th>\n",
              "      <td>Sandro_Botticelli</td>\n",
              "      <td>Sandro_Botticelli/19.jpg</td>\n",
              "    </tr>\n",
              "    <tr>\n",
              "      <th>3440</th>\n",
              "      <td>Sandro_Botticelli</td>\n",
              "      <td>Sandro_Botticelli/50.jpg</td>\n",
              "    </tr>\n",
              "    <tr>\n",
              "      <th>3441</th>\n",
              "      <td>Sandro_Botticelli</td>\n",
              "      <td>Sandro_Botticelli/12.jpg</td>\n",
              "    </tr>\n",
              "  </tbody>\n",
              "</table>\n",
              "<p>3442 rows × 2 columns</p>\n",
              "</div>"
            ],
            "text/plain": [
              "               category                     image\n",
              "0      Camille_Pissarro   Camille_Pissarro/14.jpg\n",
              "1      Camille_Pissarro   Camille_Pissarro/23.jpg\n",
              "2      Camille_Pissarro   Camille_Pissarro/17.jpg\n",
              "3      Camille_Pissarro    Camille_Pissarro/2.jpg\n",
              "4      Camille_Pissarro   Camille_Pissarro/27.jpg\n",
              "5      Camille_Pissarro    Camille_Pissarro/1.jpg\n",
              "6      Camille_Pissarro   Camille_Pissarro/10.jpg\n",
              "7      Camille_Pissarro   Camille_Pissarro/44.jpg\n",
              "8      Camille_Pissarro    Camille_Pissarro/5.jpg\n",
              "9      Camille_Pissarro   Camille_Pissarro/35.jpg\n",
              "10     Camille_Pissarro   Camille_Pissarro/20.jpg\n",
              "11     Camille_Pissarro   Camille_Pissarro/32.jpg\n",
              "12     Camille_Pissarro    Camille_Pissarro/6.jpg\n",
              "13     Camille_Pissarro   Camille_Pissarro/36.jpg\n",
              "14     Camille_Pissarro   Camille_Pissarro/38.jpg\n",
              "15     Camille_Pissarro   Camille_Pissarro/42.jpg\n",
              "16     Camille_Pissarro   Camille_Pissarro/22.jpg\n",
              "17     Camille_Pissarro   Camille_Pissarro/37.jpg\n",
              "18     Camille_Pissarro   Camille_Pissarro/30.jpg\n",
              "19     Camille_Pissarro   Camille_Pissarro/21.jpg\n",
              "20     Camille_Pissarro   Camille_Pissarro/15.jpg\n",
              "21     Camille_Pissarro   Camille_Pissarro/18.jpg\n",
              "22     Camille_Pissarro   Camille_Pissarro/34.jpg\n",
              "23     Camille_Pissarro    Camille_Pissarro/9.jpg\n",
              "24     Camille_Pissarro   Camille_Pissarro/11.jpg\n",
              "25     Camille_Pissarro   Camille_Pissarro/45.jpg\n",
              "26     Camille_Pissarro   Camille_Pissarro/39.jpg\n",
              "27     Camille_Pissarro    Camille_Pissarro/8.jpg\n",
              "28     Camille_Pissarro   Camille_Pissarro/29.jpg\n",
              "29     Camille_Pissarro   Camille_Pissarro/25.jpg\n",
              "...                 ...                       ...\n",
              "3412  Sandro_Botticelli  Sandro_Botticelli/18.jpg\n",
              "3413  Sandro_Botticelli  Sandro_Botticelli/34.jpg\n",
              "3414  Sandro_Botticelli  Sandro_Botticelli/56.jpg\n",
              "3415  Sandro_Botticelli   Sandro_Botticelli/9.jpg\n",
              "3416  Sandro_Botticelli  Sandro_Botticelli/11.jpg\n",
              "3417  Sandro_Botticelli  Sandro_Botticelli/45.jpg\n",
              "3418  Sandro_Botticelli  Sandro_Botticelli/39.jpg\n",
              "3419  Sandro_Botticelli   Sandro_Botticelli/8.jpg\n",
              "3420  Sandro_Botticelli  Sandro_Botticelli/29.jpg\n",
              "3421  Sandro_Botticelli  Sandro_Botticelli/25.jpg\n",
              "3422  Sandro_Botticelli   Sandro_Botticelli/4.jpg\n",
              "3423  Sandro_Botticelli  Sandro_Botticelli/40.jpg\n",
              "3424  Sandro_Botticelli  Sandro_Botticelli/43.jpg\n",
              "3425  Sandro_Botticelli  Sandro_Botticelli/47.jpg\n",
              "3426  Sandro_Botticelli  Sandro_Botticelli/24.jpg\n",
              "3427  Sandro_Botticelli   Sandro_Botticelli/7.jpg\n",
              "3428  Sandro_Botticelli  Sandro_Botticelli/52.jpg\n",
              "3429  Sandro_Botticelli  Sandro_Botticelli/28.jpg\n",
              "3430  Sandro_Botticelli  Sandro_Botticelli/26.jpg\n",
              "3431  Sandro_Botticelli   Sandro_Botticelli/0.jpg\n",
              "3432  Sandro_Botticelli  Sandro_Botticelli/33.jpg\n",
              "3433  Sandro_Botticelli   Sandro_Botticelli/3.jpg\n",
              "3434  Sandro_Botticelli  Sandro_Botticelli/31.jpg\n",
              "3435  Sandro_Botticelli  Sandro_Botticelli/41.jpg\n",
              "3436  Sandro_Botticelli  Sandro_Botticelli/54.jpg\n",
              "3437  Sandro_Botticelli  Sandro_Botticelli/16.jpg\n",
              "3438  Sandro_Botticelli  Sandro_Botticelli/13.jpg\n",
              "3439  Sandro_Botticelli  Sandro_Botticelli/19.jpg\n",
              "3440  Sandro_Botticelli  Sandro_Botticelli/50.jpg\n",
              "3441  Sandro_Botticelli  Sandro_Botticelli/12.jpg\n",
              "\n",
              "[3442 rows x 2 columns]"
            ]
          },
          "metadata": {
            "tags": []
          },
          "execution_count": 76
        }
      ]
    },
    {
      "cell_type": "code",
      "metadata": {
        "id": "RmdJUpEFR4Dr",
        "colab_type": "code",
        "outputId": "9ecb1427-a83c-4137-f792-ca005054893e",
        "colab": {
          "base_uri": "https://localhost:8080/",
          "height": 1000
        }
      },
      "source": [
        "test_df"
      ],
      "execution_count": 28,
      "outputs": [
        {
          "output_type": "execute_result",
          "data": {
            "text/html": [
              "<div>\n",
              "<style scoped>\n",
              "    .dataframe tbody tr th:only-of-type {\n",
              "        vertical-align: middle;\n",
              "    }\n",
              "\n",
              "    .dataframe tbody tr th {\n",
              "        vertical-align: top;\n",
              "    }\n",
              "\n",
              "    .dataframe thead th {\n",
              "        text-align: right;\n",
              "    }\n",
              "</style>\n",
              "<table border=\"1\" class=\"dataframe\">\n",
              "  <thead>\n",
              "    <tr style=\"text-align: right;\">\n",
              "      <th></th>\n",
              "      <th>category</th>\n",
              "      <th>image</th>\n",
              "    </tr>\n",
              "  </thead>\n",
              "  <tbody>\n",
              "    <tr>\n",
              "      <th>0</th>\n",
              "      <td>Camille_Pissarro</td>\n",
              "      <td>Camille_Pissarro/14.jpg</td>\n",
              "    </tr>\n",
              "    <tr>\n",
              "      <th>1</th>\n",
              "      <td>Camille_Pissarro</td>\n",
              "      <td>Camille_Pissarro/23.jpg</td>\n",
              "    </tr>\n",
              "    <tr>\n",
              "      <th>2</th>\n",
              "      <td>Camille_Pissarro</td>\n",
              "      <td>Camille_Pissarro/17.jpg</td>\n",
              "    </tr>\n",
              "    <tr>\n",
              "      <th>3</th>\n",
              "      <td>Camille_Pissarro</td>\n",
              "      <td>Camille_Pissarro/2.jpg</td>\n",
              "    </tr>\n",
              "    <tr>\n",
              "      <th>4</th>\n",
              "      <td>Camille_Pissarro</td>\n",
              "      <td>Camille_Pissarro/27.jpg</td>\n",
              "    </tr>\n",
              "    <tr>\n",
              "      <th>5</th>\n",
              "      <td>Camille_Pissarro</td>\n",
              "      <td>Camille_Pissarro/1.jpg</td>\n",
              "    </tr>\n",
              "    <tr>\n",
              "      <th>6</th>\n",
              "      <td>Camille_Pissarro</td>\n",
              "      <td>Camille_Pissarro/10.jpg</td>\n",
              "    </tr>\n",
              "    <tr>\n",
              "      <th>7</th>\n",
              "      <td>Camille_Pissarro</td>\n",
              "      <td>Camille_Pissarro/44.jpg</td>\n",
              "    </tr>\n",
              "    <tr>\n",
              "      <th>8</th>\n",
              "      <td>Camille_Pissarro</td>\n",
              "      <td>Camille_Pissarro/5.jpg</td>\n",
              "    </tr>\n",
              "    <tr>\n",
              "      <th>9</th>\n",
              "      <td>Camille_Pissarro</td>\n",
              "      <td>Camille_Pissarro/35.jpg</td>\n",
              "    </tr>\n",
              "    <tr>\n",
              "      <th>10</th>\n",
              "      <td>Camille_Pissarro</td>\n",
              "      <td>Camille_Pissarro/20.jpg</td>\n",
              "    </tr>\n",
              "    <tr>\n",
              "      <th>11</th>\n",
              "      <td>Camille_Pissarro</td>\n",
              "      <td>Camille_Pissarro/32.jpg</td>\n",
              "    </tr>\n",
              "    <tr>\n",
              "      <th>12</th>\n",
              "      <td>Camille_Pissarro</td>\n",
              "      <td>Camille_Pissarro/49.jpg</td>\n",
              "    </tr>\n",
              "    <tr>\n",
              "      <th>13</th>\n",
              "      <td>Camille_Pissarro</td>\n",
              "      <td>Camille_Pissarro/6.jpg</td>\n",
              "    </tr>\n",
              "    <tr>\n",
              "      <th>14</th>\n",
              "      <td>Camille_Pissarro</td>\n",
              "      <td>Camille_Pissarro/36.jpg</td>\n",
              "    </tr>\n",
              "    <tr>\n",
              "      <th>15</th>\n",
              "      <td>Camille_Pissarro</td>\n",
              "      <td>Camille_Pissarro/38.jpg</td>\n",
              "    </tr>\n",
              "    <tr>\n",
              "      <th>16</th>\n",
              "      <td>Camille_Pissarro</td>\n",
              "      <td>Camille_Pissarro/46.jpg</td>\n",
              "    </tr>\n",
              "    <tr>\n",
              "      <th>17</th>\n",
              "      <td>Camille_Pissarro</td>\n",
              "      <td>Camille_Pissarro/42.jpg</td>\n",
              "    </tr>\n",
              "    <tr>\n",
              "      <th>18</th>\n",
              "      <td>Camille_Pissarro</td>\n",
              "      <td>Camille_Pissarro/53.jpg</td>\n",
              "    </tr>\n",
              "    <tr>\n",
              "      <th>19</th>\n",
              "      <td>Camille_Pissarro</td>\n",
              "      <td>Camille_Pissarro/22.jpg</td>\n",
              "    </tr>\n",
              "    <tr>\n",
              "      <th>20</th>\n",
              "      <td>Camille_Pissarro</td>\n",
              "      <td>Camille_Pissarro/51.jpg</td>\n",
              "    </tr>\n",
              "    <tr>\n",
              "      <th>21</th>\n",
              "      <td>Camille_Pissarro</td>\n",
              "      <td>Camille_Pissarro/37.jpg</td>\n",
              "    </tr>\n",
              "    <tr>\n",
              "      <th>22</th>\n",
              "      <td>Camille_Pissarro</td>\n",
              "      <td>Camille_Pissarro/48.jpg</td>\n",
              "    </tr>\n",
              "    <tr>\n",
              "      <th>23</th>\n",
              "      <td>Camille_Pissarro</td>\n",
              "      <td>Camille_Pissarro/30.jpg</td>\n",
              "    </tr>\n",
              "    <tr>\n",
              "      <th>24</th>\n",
              "      <td>Camille_Pissarro</td>\n",
              "      <td>Camille_Pissarro/21.jpg</td>\n",
              "    </tr>\n",
              "    <tr>\n",
              "      <th>25</th>\n",
              "      <td>Camille_Pissarro</td>\n",
              "      <td>Camille_Pissarro/15.jpg</td>\n",
              "    </tr>\n",
              "    <tr>\n",
              "      <th>26</th>\n",
              "      <td>Camille_Pissarro</td>\n",
              "      <td>Camille_Pissarro/18.jpg</td>\n",
              "    </tr>\n",
              "    <tr>\n",
              "      <th>27</th>\n",
              "      <td>Camille_Pissarro</td>\n",
              "      <td>Camille_Pissarro/34.jpg</td>\n",
              "    </tr>\n",
              "    <tr>\n",
              "      <th>28</th>\n",
              "      <td>Camille_Pissarro</td>\n",
              "      <td>Camille_Pissarro/9.jpg</td>\n",
              "    </tr>\n",
              "    <tr>\n",
              "      <th>29</th>\n",
              "      <td>Camille_Pissarro</td>\n",
              "      <td>Camille_Pissarro/11.jpg</td>\n",
              "    </tr>\n",
              "    <tr>\n",
              "      <th>...</th>\n",
              "      <td>...</td>\n",
              "      <td>...</td>\n",
              "    </tr>\n",
              "    <tr>\n",
              "      <th>5073</th>\n",
              "      <td>Sandro_Botticelli</td>\n",
              "      <td>Sandro_Botticelli/25.jpg</td>\n",
              "    </tr>\n",
              "    <tr>\n",
              "      <th>5074</th>\n",
              "      <td>Sandro_Botticelli</td>\n",
              "      <td>Sandro_Botticelli/66.jpg</td>\n",
              "    </tr>\n",
              "    <tr>\n",
              "      <th>5075</th>\n",
              "      <td>Sandro_Botticelli</td>\n",
              "      <td>Sandro_Botticelli/4.jpg</td>\n",
              "    </tr>\n",
              "    <tr>\n",
              "      <th>5076</th>\n",
              "      <td>Sandro_Botticelli</td>\n",
              "      <td>Sandro_Botticelli/40.jpg</td>\n",
              "    </tr>\n",
              "    <tr>\n",
              "      <th>5077</th>\n",
              "      <td>Sandro_Botticelli</td>\n",
              "      <td>Sandro_Botticelli/43.jpg</td>\n",
              "    </tr>\n",
              "    <tr>\n",
              "      <th>5078</th>\n",
              "      <td>Sandro_Botticelli</td>\n",
              "      <td>Sandro_Botticelli/47.jpg</td>\n",
              "    </tr>\n",
              "    <tr>\n",
              "      <th>5079</th>\n",
              "      <td>Sandro_Botticelli</td>\n",
              "      <td>Sandro_Botticelli/69.jpg</td>\n",
              "    </tr>\n",
              "    <tr>\n",
              "      <th>5080</th>\n",
              "      <td>Sandro_Botticelli</td>\n",
              "      <td>Sandro_Botticelli/84.jpg</td>\n",
              "    </tr>\n",
              "    <tr>\n",
              "      <th>5081</th>\n",
              "      <td>Sandro_Botticelli</td>\n",
              "      <td>Sandro_Botticelli/82.jpg</td>\n",
              "    </tr>\n",
              "    <tr>\n",
              "      <th>5082</th>\n",
              "      <td>Sandro_Botticelli</td>\n",
              "      <td>Sandro_Botticelli/74.jpg</td>\n",
              "    </tr>\n",
              "    <tr>\n",
              "      <th>5083</th>\n",
              "      <td>Sandro_Botticelli</td>\n",
              "      <td>Sandro_Botticelli/24.jpg</td>\n",
              "    </tr>\n",
              "    <tr>\n",
              "      <th>5084</th>\n",
              "      <td>Sandro_Botticelli</td>\n",
              "      <td>Sandro_Botticelli/7.jpg</td>\n",
              "    </tr>\n",
              "    <tr>\n",
              "      <th>5085</th>\n",
              "      <td>Sandro_Botticelli</td>\n",
              "      <td>Sandro_Botticelli/52.jpg</td>\n",
              "    </tr>\n",
              "    <tr>\n",
              "      <th>5086</th>\n",
              "      <td>Sandro_Botticelli</td>\n",
              "      <td>Sandro_Botticelli/64.jpg</td>\n",
              "    </tr>\n",
              "    <tr>\n",
              "      <th>5087</th>\n",
              "      <td>Sandro_Botticelli</td>\n",
              "      <td>Sandro_Botticelli/28.jpg</td>\n",
              "    </tr>\n",
              "    <tr>\n",
              "      <th>5088</th>\n",
              "      <td>Sandro_Botticelli</td>\n",
              "      <td>Sandro_Botticelli/26.jpg</td>\n",
              "    </tr>\n",
              "    <tr>\n",
              "      <th>5089</th>\n",
              "      <td>Sandro_Botticelli</td>\n",
              "      <td>Sandro_Botticelli/0.jpg</td>\n",
              "    </tr>\n",
              "    <tr>\n",
              "      <th>5090</th>\n",
              "      <td>Sandro_Botticelli</td>\n",
              "      <td>Sandro_Botticelli/33.jpg</td>\n",
              "    </tr>\n",
              "    <tr>\n",
              "      <th>5091</th>\n",
              "      <td>Sandro_Botticelli</td>\n",
              "      <td>Sandro_Botticelli/3.jpg</td>\n",
              "    </tr>\n",
              "    <tr>\n",
              "      <th>5092</th>\n",
              "      <td>Sandro_Botticelli</td>\n",
              "      <td>Sandro_Botticelli/71.jpg</td>\n",
              "    </tr>\n",
              "    <tr>\n",
              "      <th>5093</th>\n",
              "      <td>Sandro_Botticelli</td>\n",
              "      <td>Sandro_Botticelli/31.jpg</td>\n",
              "    </tr>\n",
              "    <tr>\n",
              "      <th>5094</th>\n",
              "      <td>Sandro_Botticelli</td>\n",
              "      <td>Sandro_Botticelli/41.jpg</td>\n",
              "    </tr>\n",
              "    <tr>\n",
              "      <th>5095</th>\n",
              "      <td>Sandro_Botticelli</td>\n",
              "      <td>Sandro_Botticelli/54.jpg</td>\n",
              "    </tr>\n",
              "    <tr>\n",
              "      <th>5096</th>\n",
              "      <td>Sandro_Botticelli</td>\n",
              "      <td>Sandro_Botticelli/16.jpg</td>\n",
              "    </tr>\n",
              "    <tr>\n",
              "      <th>5097</th>\n",
              "      <td>Sandro_Botticelli</td>\n",
              "      <td>Sandro_Botticelli/13.jpg</td>\n",
              "    </tr>\n",
              "    <tr>\n",
              "      <th>5098</th>\n",
              "      <td>Sandro_Botticelli</td>\n",
              "      <td>Sandro_Botticelli/62.jpg</td>\n",
              "    </tr>\n",
              "    <tr>\n",
              "      <th>5099</th>\n",
              "      <td>Sandro_Botticelli</td>\n",
              "      <td>Sandro_Botticelli/19.jpg</td>\n",
              "    </tr>\n",
              "    <tr>\n",
              "      <th>5100</th>\n",
              "      <td>Sandro_Botticelli</td>\n",
              "      <td>Sandro_Botticelli/50.jpg</td>\n",
              "    </tr>\n",
              "    <tr>\n",
              "      <th>5101</th>\n",
              "      <td>Sandro_Botticelli</td>\n",
              "      <td>Sandro_Botticelli/12.jpg</td>\n",
              "    </tr>\n",
              "    <tr>\n",
              "      <th>5102</th>\n",
              "      <td>Sandro_Botticelli</td>\n",
              "      <td>Sandro_Botticelli/89.jpg</td>\n",
              "    </tr>\n",
              "  </tbody>\n",
              "</table>\n",
              "<p>5103 rows × 2 columns</p>\n",
              "</div>"
            ],
            "text/plain": [
              "               category                     image\n",
              "0      Camille_Pissarro   Camille_Pissarro/14.jpg\n",
              "1      Camille_Pissarro   Camille_Pissarro/23.jpg\n",
              "2      Camille_Pissarro   Camille_Pissarro/17.jpg\n",
              "3      Camille_Pissarro    Camille_Pissarro/2.jpg\n",
              "4      Camille_Pissarro   Camille_Pissarro/27.jpg\n",
              "5      Camille_Pissarro    Camille_Pissarro/1.jpg\n",
              "6      Camille_Pissarro   Camille_Pissarro/10.jpg\n",
              "7      Camille_Pissarro   Camille_Pissarro/44.jpg\n",
              "8      Camille_Pissarro    Camille_Pissarro/5.jpg\n",
              "9      Camille_Pissarro   Camille_Pissarro/35.jpg\n",
              "10     Camille_Pissarro   Camille_Pissarro/20.jpg\n",
              "11     Camille_Pissarro   Camille_Pissarro/32.jpg\n",
              "12     Camille_Pissarro   Camille_Pissarro/49.jpg\n",
              "13     Camille_Pissarro    Camille_Pissarro/6.jpg\n",
              "14     Camille_Pissarro   Camille_Pissarro/36.jpg\n",
              "15     Camille_Pissarro   Camille_Pissarro/38.jpg\n",
              "16     Camille_Pissarro   Camille_Pissarro/46.jpg\n",
              "17     Camille_Pissarro   Camille_Pissarro/42.jpg\n",
              "18     Camille_Pissarro   Camille_Pissarro/53.jpg\n",
              "19     Camille_Pissarro   Camille_Pissarro/22.jpg\n",
              "20     Camille_Pissarro   Camille_Pissarro/51.jpg\n",
              "21     Camille_Pissarro   Camille_Pissarro/37.jpg\n",
              "22     Camille_Pissarro   Camille_Pissarro/48.jpg\n",
              "23     Camille_Pissarro   Camille_Pissarro/30.jpg\n",
              "24     Camille_Pissarro   Camille_Pissarro/21.jpg\n",
              "25     Camille_Pissarro   Camille_Pissarro/15.jpg\n",
              "26     Camille_Pissarro   Camille_Pissarro/18.jpg\n",
              "27     Camille_Pissarro   Camille_Pissarro/34.jpg\n",
              "28     Camille_Pissarro    Camille_Pissarro/9.jpg\n",
              "29     Camille_Pissarro   Camille_Pissarro/11.jpg\n",
              "...                 ...                       ...\n",
              "5073  Sandro_Botticelli  Sandro_Botticelli/25.jpg\n",
              "5074  Sandro_Botticelli  Sandro_Botticelli/66.jpg\n",
              "5075  Sandro_Botticelli   Sandro_Botticelli/4.jpg\n",
              "5076  Sandro_Botticelli  Sandro_Botticelli/40.jpg\n",
              "5077  Sandro_Botticelli  Sandro_Botticelli/43.jpg\n",
              "5078  Sandro_Botticelli  Sandro_Botticelli/47.jpg\n",
              "5079  Sandro_Botticelli  Sandro_Botticelli/69.jpg\n",
              "5080  Sandro_Botticelli  Sandro_Botticelli/84.jpg\n",
              "5081  Sandro_Botticelli  Sandro_Botticelli/82.jpg\n",
              "5082  Sandro_Botticelli  Sandro_Botticelli/74.jpg\n",
              "5083  Sandro_Botticelli  Sandro_Botticelli/24.jpg\n",
              "5084  Sandro_Botticelli   Sandro_Botticelli/7.jpg\n",
              "5085  Sandro_Botticelli  Sandro_Botticelli/52.jpg\n",
              "5086  Sandro_Botticelli  Sandro_Botticelli/64.jpg\n",
              "5087  Sandro_Botticelli  Sandro_Botticelli/28.jpg\n",
              "5088  Sandro_Botticelli  Sandro_Botticelli/26.jpg\n",
              "5089  Sandro_Botticelli   Sandro_Botticelli/0.jpg\n",
              "5090  Sandro_Botticelli  Sandro_Botticelli/33.jpg\n",
              "5091  Sandro_Botticelli   Sandro_Botticelli/3.jpg\n",
              "5092  Sandro_Botticelli  Sandro_Botticelli/71.jpg\n",
              "5093  Sandro_Botticelli  Sandro_Botticelli/31.jpg\n",
              "5094  Sandro_Botticelli  Sandro_Botticelli/41.jpg\n",
              "5095  Sandro_Botticelli  Sandro_Botticelli/54.jpg\n",
              "5096  Sandro_Botticelli  Sandro_Botticelli/16.jpg\n",
              "5097  Sandro_Botticelli  Sandro_Botticelli/13.jpg\n",
              "5098  Sandro_Botticelli  Sandro_Botticelli/62.jpg\n",
              "5099  Sandro_Botticelli  Sandro_Botticelli/19.jpg\n",
              "5100  Sandro_Botticelli  Sandro_Botticelli/50.jpg\n",
              "5101  Sandro_Botticelli  Sandro_Botticelli/12.jpg\n",
              "5102  Sandro_Botticelli  Sandro_Botticelli/89.jpg\n",
              "\n",
              "[5103 rows x 2 columns]"
            ]
          },
          "metadata": {
            "tags": []
          },
          "execution_count": 28
        }
      ]
    },
    {
      "cell_type": "markdown",
      "metadata": {
        "id": "K9vPNcCSdkuu",
        "colab_type": "text"
      },
      "source": [
        "## **3. Data preprocesing**"
      ]
    },
    {
      "cell_type": "markdown",
      "metadata": {
        "id": "CdWL3OE-d_Y8",
        "colab_type": "text"
      },
      "source": [
        "Spliting the data"
      ]
    },
    {
      "cell_type": "code",
      "metadata": {
        "id": "fl_iwPfFa18s",
        "colab_type": "code",
        "colab": {}
      },
      "source": [
        "test_df, val_df = train_test_split(test_df, test_size=0.5)"
      ],
      "execution_count": 0,
      "outputs": []
    },
    {
      "cell_type": "code",
      "metadata": {
        "id": "ZOxFoWskXrOF",
        "colab_type": "code",
        "colab": {}
      },
      "source": [
        "train_df.reset_index(drop=True, inplace=True)"
      ],
      "execution_count": 0,
      "outputs": []
    },
    {
      "cell_type": "code",
      "metadata": {
        "id": "pSgX44l9XrOK",
        "colab_type": "code",
        "colab": {}
      },
      "source": [
        "val_df.reset_index(drop=True, inplace=True)"
      ],
      "execution_count": 0,
      "outputs": []
    },
    {
      "cell_type": "code",
      "metadata": {
        "id": "PV2J7l9WXrON",
        "colab_type": "code",
        "colab": {}
      },
      "source": [
        "test_df.reset_index(drop=True, inplace=True)"
      ],
      "execution_count": 0,
      "outputs": []
    },
    {
      "cell_type": "code",
      "metadata": {
        "id": "U5gkEJoCdyaG",
        "colab_type": "code",
        "colab": {
          "base_uri": "https://localhost:8080/",
          "height": 33
        },
        "outputId": "e47fc6d1-be61-4590-e6bd-7ad54d9ee8b7"
      },
      "source": [
        "[x.shape for x in (train_df, test_df, val_df, train_df[target_col])]"
      ],
      "execution_count": 93,
      "outputs": [
        {
          "output_type": "execute_result",
          "data": {
            "text/plain": [
              "[(3442, 2), (1251, 2), (1251, 2), (3442,)]"
            ]
          },
          "metadata": {
            "tags": []
          },
          "execution_count": 93
        }
      ]
    },
    {
      "cell_type": "code",
      "metadata": {
        "id": "UQuETXrOXrOP",
        "colab_type": "code",
        "colab": {}
      },
      "source": [
        "target_col = 'category'\n",
        "image_path_col = 'image'\n",
        "IMG_DIMS = (99, 99)"
      ],
      "execution_count": 0,
      "outputs": []
    },
    {
      "cell_type": "code",
      "metadata": {
        "id": "zYqt3B44XrOS",
        "colab_type": "code",
        "colab": {}
      },
      "source": [
        "label_pipeline = LabelEncoder()"
      ],
      "execution_count": 0,
      "outputs": []
    },
    {
      "cell_type": "code",
      "metadata": {
        "id": "W-e_OlhJXrOU",
        "colab_type": "code",
        "outputId": "536d47fd-7030-4685-9039-bfc9e3928fd7",
        "colab": {
          "base_uri": "https://localhost:8080/",
          "height": 33
        }
      },
      "source": [
        "label_pipeline.fit_transform(train_df[target_col])"
      ],
      "execution_count": 96,
      "outputs": [
        {
          "output_type": "execute_result",
          "data": {
            "text/plain": [
              "array([ 5,  5,  5, ..., 45, 45, 45])"
            ]
          },
          "metadata": {
            "tags": []
          },
          "execution_count": 96
        }
      ]
    },
    {
      "cell_type": "code",
      "metadata": {
        "id": "ipK21zkVXrOX",
        "colab_type": "code",
        "colab": {}
      },
      "source": [
        "with open(TEMP_DIR/\"label_pipeline.pickle\", \"wb\") as f:\n",
        "    pickle.dump(label_pipeline, f)"
      ],
      "execution_count": 0,
      "outputs": []
    },
    {
      "cell_type": "code",
      "metadata": {
        "id": "2a33IV4AXrOc",
        "colab_type": "code",
        "colab": {}
      },
      "source": [
        "with open(TEMP_DIR/\"label_pipeline.pickle\", \"rb\") as f:\n",
        "    label_pipeline = pickle.load(f)"
      ],
      "execution_count": 0,
      "outputs": []
    },
    {
      "cell_type": "code",
      "metadata": {
        "id": "6rChf4mAXrOg",
        "colab_type": "code",
        "colab": {}
      },
      "source": [
        "n_classes = train_df[target_col].nunique()"
      ],
      "execution_count": 0,
      "outputs": []
    },
    {
      "cell_type": "code",
      "metadata": {
        "id": "E-WRg8E6XrOj",
        "colab_type": "code",
        "outputId": "03f76366-e0fa-4f37-cbac-10d3a959b15d",
        "colab": {
          "base_uri": "https://localhost:8080/",
          "height": 33
        }
      },
      "source": [
        "n_classes"
      ],
      "execution_count": 100,
      "outputs": [
        {
          "output_type": "execute_result",
          "data": {
            "text/plain": [
              "50"
            ]
          },
          "metadata": {
            "tags": []
          },
          "execution_count": 100
        }
      ]
    },
    {
      "cell_type": "code",
      "metadata": {
        "id": "5h0wMemEwE_A",
        "colab_type": "code",
        "outputId": "5360e9b3-c128-4c78-b0a7-3d09fd482c80",
        "colab": {
          "base_uri": "https://localhost:8080/",
          "height": 33
        }
      },
      "source": [
        "n_classes == test_df[target_col].nunique() == val_df[target_col].nunique()"
      ],
      "execution_count": 101,
      "outputs": [
        {
          "output_type": "execute_result",
          "data": {
            "text/plain": [
              "True"
            ]
          },
          "metadata": {
            "tags": []
          },
          "execution_count": 101
        }
      ]
    },
    {
      "cell_type": "code",
      "metadata": {
        "id": "0ikK9Krefmq9",
        "colab_type": "code",
        "colab": {}
      },
      "source": [
        ""
      ],
      "execution_count": 0,
      "outputs": []
    },
    {
      "cell_type": "code",
      "metadata": {
        "id": "il5mxecWXrOl",
        "colab_type": "code",
        "colab": {}
      },
      "source": [
        "def augment(image, level=0, flips=None, random_crop=False):\n",
        "    if random_crop:\n",
        "        crop_fraction = 1 - 0.05 * level\n",
        "        scaled_dim = tf.to_int32(\n",
        "            crop_fraction * tf.to_float(tf.reduce_min(tf.shape(image)[:2]))\n",
        "        )\n",
        "        image = tf.image.random_crop(image, (scaled_dim, scaled_dim, 3))\n",
        "        image = tf.image.resize(image, IMG_DIMS)\n",
        "\n",
        "    if flips in [\"horizontal\", \"both\"]:\n",
        "        image = tf.image.random_flip_left_right(image)\n",
        "    if flips in [\"vertical\", \"both\"]:\n",
        "        image = tf.image.random_flip_up_down(image)\n",
        "\n",
        "    if level > 0:\n",
        "        lower = 1 - 0.1 * level\n",
        "        upper = 1 + 0.1 * level\n",
        "        image = tf.image.random_contrast(image, lower=lower, upper=upper)\n",
        "        image = tf.image.random_saturation(image, lower=lower, upper=upper)\n",
        "        image = tf.clip_by_value(image, 0.0, 1.0)\n",
        "    return image"
      ],
      "execution_count": 0,
      "outputs": []
    },
    {
      "cell_type": "code",
      "metadata": {
        "id": "MlTVXgDOXrOo",
        "colab_type": "code",
        "colab": {}
      },
      "source": [
        "def image_parse(filename, preprocess_fn, img_dims, mode):\n",
        "    image_string = tf.io.read_file(filename)\n",
        "    image = tf.image.decode_jpeg(image_string, channels=3)\n",
        "    image = preprocess_fn(image)\n",
        "    if mode == \"stretch\":\n",
        "        image = tf.image.resize(image, img_dims)\n",
        "    elif mode == \"crop\":\n",
        "        image = tf.image.resize_with_crop_or_pad(image, img_dims[0], img_dims[1])\n",
        "    else:\n",
        "        raise ValueError(\"mode not implemented\")\n",
        "\n",
        "    return image"
      ],
      "execution_count": 0,
      "outputs": []
    },
    {
      "cell_type": "code",
      "metadata": {
        "id": "hmcsi1gLXrOr",
        "colab_type": "code",
        "colab": {}
      },
      "source": [
        "def prepare_ds(\n",
        "    x,\n",
        "    y,\n",
        "    batch_size,\n",
        "    parse_fn,\n",
        "    augment_fn,\n",
        "    mode,\n",
        "    shuffle=False,\n",
        "    num_parallel_calls=1,\n",
        "):\n",
        "    dataset_length = len(x)\n",
        "    preprocess_fn = partial(tf.image.convert_image_dtype, dtype=tf.float32)\n",
        "    parse_fn = partial(\n",
        "        parse_fn, preprocess_fn=preprocess_fn, img_dims=IMG_DIMS, mode=mode\n",
        "    )\n",
        "\n",
        "    image_ds = (\n",
        "        tf.data.Dataset.from_tensor_slices(x)\n",
        "        .map(parse_fn, num_parallel_calls=num_parallel_calls)\n",
        "        .map(augment_fn, num_parallel_calls=num_parallel_calls)\n",
        "    )\n",
        "    label_ds = tf.data.Dataset.from_tensor_slices(tf.cast(y, tf.float32))\n",
        "    ds = tf.data.Dataset.zip((image_ds, label_ds))\n",
        "\n",
        "    if shuffle:\n",
        "        ds = ds.shuffle(dataset_length)\n",
        "\n",
        "    ds = ds.batch(batch_size)\n",
        "    ds = ds.repeat()\n",
        "    ds = ds.prefetch(1)\n",
        "    return ds, dataset_length, batch_size"
      ],
      "execution_count": 0,
      "outputs": []
    },
    {
      "cell_type": "markdown",
      "metadata": {
        "id": "mVK_XQ-DeE99",
        "colab_type": "text"
      },
      "source": [
        "**Preparing the data for training the model**"
      ]
    },
    {
      "cell_type": "code",
      "metadata": {
        "id": "U9vTz_dNXrOt",
        "colab_type": "code",
        "colab": {}
      },
      "source": [
        "train_dataset, train_dataset_length, train_batch_size = prepare_ds(\n",
        "    x=np.array([str(DATA_DIR/\"train\"/f\"{getattr(row, image_path_col)}\") for row in train_df.itertuples()]),\n",
        "    y=label_pipeline.transform(train_df[target_col]),\n",
        "    batch_size=32,\n",
        "    parse_fn=image_parse,\n",
        "    augment_fn=partial(augment, level=2),\n",
        "    mode=\"stretch\",\n",
        "    shuffle=True,\n",
        "    num_parallel_calls=2,\n",
        ")"
      ],
      "execution_count": 0,
      "outputs": []
    },
    {
      "cell_type": "code",
      "metadata": {
        "id": "7UqfMQeFXrOv",
        "colab_type": "code",
        "colab": {}
      },
      "source": [
        "val_dataset, val_dataset_length, val_batch_size = prepare_ds(\n",
        "    x=np.array([str(DATA_DIR/\"test\"/f\"{getattr(row, image_path_col)}\") for row in val_df.itertuples()]),\n",
        "    y=label_pipeline.transform(val_df[target_col]),\n",
        "    batch_size=32,\n",
        "    parse_fn=image_parse,\n",
        "    augment_fn=augment,\n",
        "    mode=\"stretch\",\n",
        "    shuffle=False,\n",
        "    num_parallel_calls=2,\n",
        ")"
      ],
      "execution_count": 0,
      "outputs": []
    },
    {
      "cell_type": "code",
      "metadata": {
        "id": "AVkQTAkSXrOx",
        "colab_type": "code",
        "colab": {}
      },
      "source": [
        "test_dataset, test_dataset_length, test_batch_size = prepare_ds(\n",
        "    x=np.array([str(DATA_DIR/\"test\"/f\"{getattr(row, image_path_col)}\") for row in test_df.itertuples()]),\n",
        "    y=label_pipeline.transform(test_df[target_col]),\n",
        "    batch_size=32,\n",
        "    parse_fn=image_parse,\n",
        "    augment_fn=augment,\n",
        "    mode=\"stretch\",\n",
        "    shuffle=False,\n",
        "    num_parallel_calls=2,\n",
        ")"
      ],
      "execution_count": 0,
      "outputs": []
    },
    {
      "cell_type": "code",
      "metadata": {
        "id": "gGMP3m-iXrOz",
        "colab_type": "code",
        "colab": {}
      },
      "source": [
        "def plot_dataset(dataset, rows, cols):\n",
        "    _, ax = plt.subplots(rows, cols, figsize=(5 * cols, 5 * rows))\n",
        "    for i, (x, y) in enumerate(dataset.take(rows * cols)):\n",
        "        ax[i // cols, i % cols].axis('off')\n",
        "        ax[i // cols, i % cols].imshow(x[0])\n",
        "        ax[i // cols, i % cols].set_title(y[0].numpy())"
      ],
      "execution_count": 0,
      "outputs": []
    },
    {
      "cell_type": "code",
      "metadata": {
        "id": "IVm1ZMXHXrO2",
        "colab_type": "code",
        "outputId": "f36b9662-31ca-403d-b855-9e58ef500959",
        "colab": {
          "base_uri": "https://localhost:8080/",
          "height": 627
        }
      },
      "source": [
        "plot_dataset(train_dataset, 2, 3)"
      ],
      "execution_count": 113,
      "outputs": [
        {
          "output_type": "display_data",
          "data": {
            "image/png": "[encoded data removed]",
            "text/plain": [
              "<Figure size 1080x720 with 6 Axes>"
            ]
          },
          "metadata": {
            "tags": []
          }
        }
      ]
    },
    {
      "cell_type": "code",
      "metadata": {
        "id": "U2WnyUe_XrO5",
        "colab_type": "code",
        "outputId": "64e86c80-41e2-4d54-9a6f-a143ff1fee99",
        "colab": {
          "base_uri": "https://localhost:8080/",
          "height": 607
        }
      },
      "source": [
        "plot_dataset(val_dataset, 2, 3)"
      ],
      "execution_count": 0,
      "outputs": [
        {
          "output_type": "display_data",
          "data": {
            "image/png": "[encoded data removed]",
            "text/plain": [
              "<Figure size 1080x720 with 6 Axes>"
            ]
          },
          "metadata": {
            "tags": []
          }
        }
      ]
    },
    {
      "cell_type": "markdown",
      "metadata": {
        "id": "F9rdAyo6eP5F",
        "colab_type": "text"
      },
      "source": [
        "## **4. Creating and training the Models**"
      ]
    },
    {
      "cell_type": "code",
      "metadata": {
        "id": "1HWd5VI3XrO9",
        "colab_type": "code",
        "colab": {}
      },
      "source": [
        "def make_model(\n",
        "    n_classes,\n",
        "    input_shape,\n",
        "    dropout_rate=0.0,\n",
        "    l1=1e-8,\n",
        "    l2=1e-8,\n",
        "):\n",
        "    base_model = keras.applications.Xception(include_top=False, input_shape=input_shape)\n",
        "#     base_model = keras.applications.mobilenet_v2.MobileNetV2(input_shape=input_shape, alpha=1.0, depth_multiplier=1.0, include_top=False, weights='imagenet', input_tensor=None, pooling=True, classes=1000)\n",
        "#     base_model = keras.applications.mobilenet_v2.MobileNetV2(include_top=False, input_shape=input_shape) #we leave the same parameters inside the model as in Xception not like above\n",
        "    x = keras.layers.concatenate([\n",
        "        keras.layers.GlobalAvgPool2D()(base_model.output),\n",
        "        keras.layers.GlobalMaxPool2D()(base_model.output),\n",
        "    ])\n",
        "    x = keras.layers.BatchNormalization()(x)\n",
        "    x = keras.layers.Dropout(dropout_rate)(x)\n",
        "    x = keras.layers.Dense(\n",
        "        n_classes,\n",
        "        kernel_regularizer=keras.regularizers.l1_l2(l1, l2),\n",
        "        activation=keras.activations.softmax,\n",
        "    )(x)\n",
        "    return keras.Model(inputs=base_model.inputs, outputs=x)"
      ],
      "execution_count": 0,
      "outputs": []
    },
    {
      "cell_type": "code",
      "metadata": {
        "id": "DhAQMZJXXrPF",
        "colab_type": "code",
        "colab": {}
      },
      "source": [
        "def train_model(model, optimizer, lr, epochs, easing_epochs):\n",
        "    if easing_epochs:\n",
        "        for layer in model.layers[:-1]:\n",
        "            layer.trainable = False\n",
        "\n",
        "        model.compile(\n",
        "            optimizer=optimizer(lr),\n",
        "            loss=keras.losses.sparse_categorical_crossentropy,\n",
        "            metrics=[\n",
        "                keras.metrics.sparse_categorical_accuracy,\n",
        "            ],\n",
        "        )\n",
        "        \n",
        "#         easing_reduce_lr_patience = min(1, easing_epochs // 3)\n",
        "#         easing_early_stopping_patience = min(1, easing_epochs // 2)\n",
        "        easing_reduce_lr_patience = max(2, easing_epochs // 3)\n",
        "        easing_early_stopping_patience = easing_reduce_lr_patience * 2\n",
        "\n",
        "        model.fit(\n",
        "            x=train_dataset,\n",
        "            steps_per_epoch=math.ceil(train_dataset_length/train_batch_size),\n",
        "            validation_data=val_dataset,\n",
        "            validation_steps=math.ceil(val_dataset_length/val_batch_size),\n",
        "            epochs=easing_epochs,\n",
        "            callbacks=[\n",
        "                keras.callbacks.ReduceLROnPlateau(factor=0.3, patience=easing_reduce_lr_patience),\n",
        "                keras.callbacks.EarlyStopping(patience=easing_early_stopping_patience, restore_best_weights=True),  \n",
        "            ],\n",
        "            verbose=0,\n",
        "        )\n",
        "        \n",
        "        for layer in model.layers[:-1]:\n",
        "            layer.trainable = True\n",
        "        \n",
        "    model.compile(\n",
        "        optimizer=optimizer(lr),\n",
        "        loss=keras.losses.sparse_categorical_crossentropy,\n",
        "        metrics=[\n",
        "            keras.metrics.sparse_categorical_accuracy,\n",
        "        ],\n",
        "    )\n",
        "    \n",
        "    reduce_lr_patience = max(5, epochs // 4)\n",
        "    early_stopping_patience = max(10, epochs // 2)\n",
        "\n",
        "    history = model.fit(\n",
        "        x=train_dataset,\n",
        "        steps_per_epoch=math.ceil(train_dataset_length/train_batch_size),\n",
        "        validation_data=val_dataset,\n",
        "        validation_steps=math.ceil(val_dataset_length/val_batch_size),\n",
        "        epochs=epochs,\n",
        "        callbacks=[\n",
        "            tf.keras.callbacks.ModelCheckpoint(str(SAVE_DIR/'nn_model.h5'), save_best_only=True),\n",
        "            keras.callbacks.ReduceLROnPlateau(factor=0.3, patience=reduce_lr_patience),\n",
        "            keras.callbacks.EarlyStopping(patience=early_stopping_patience, restore_best_weights=True),  \n",
        "        ],\n",
        "        verbose=1,\n",
        "    )\n",
        "    \n",
        "    return history"
      ],
      "execution_count": 0,
      "outputs": []
    },
    {
      "cell_type": "markdown",
      "metadata": {
        "id": "fyP8_TwkeajS",
        "colab_type": "text"
      },
      "source": [
        "**4.1. The DL model using transfer learning**"
      ]
    },
    {
      "cell_type": "code",
      "metadata": {
        "id": "TLz8sUz5zNKo",
        "colab_type": "code",
        "outputId": "cc003f35-a98d-42c0-d305-6faaaea78865",
        "colab": {
          "base_uri": "https://localhost:8080/",
          "height": 70
        }
      },
      "source": [
        "input_shape = IMG_DIMS + (3,)\n",
        "\n",
        "model = make_model(\n",
        "    n_classes=n_classes,\n",
        "    input_shape=input_shape,\n",
        "    dropout_rate=0.5,\n",
        "    l1=3e-6,\n",
        "    l2=3e-4,\n",
        ")\n"
      ],
      "execution_count": 53,
      "outputs": [
        {
          "output_type": "stream",
          "text": [
            "Downloading data from https://github.com/fchollet/deep-learning-models/releases/download/v0.4/xception_weights_tf_dim_ordering_tf_kernels_notop.h5\n",
            "83689472/83683744 [==============================] - 2s 0us/step\n"
          ],
          "name": "stdout"
        }
      ]
    },
    {
      "cell_type": "code",
      "metadata": {
        "id": "OJ2MF5CizVDn",
        "colab_type": "code",
        "outputId": "3f40a6bf-f46f-45f8-936f-10fab5049c8f",
        "colab": {
          "base_uri": "https://localhost:8080/",
          "height": 608
        }
      },
      "source": [
        "train_model(\n",
        "    model=model,\n",
        "    optimizer=keras.optimizers.Nadam,\n",
        "    lr=1e-4,\n",
        "    epochs=20,\n",
        "    easing_epochs=0,\n",
        ")"
      ],
      "execution_count": 55,
      "outputs": [
        {
          "output_type": "stream",
          "text": [
            "Epoch 1/20\n",
            "108/108 [==============================] - 425s 4s/step - loss: 3.4698 - sparse_categorical_accuracy: 0.2397 - val_loss: 2.3681 - val_sparse_categorical_accuracy: 0.4321\n",
            "Epoch 2/20\n",
            "108/108 [==============================] - 317s 3s/step - loss: 1.3708 - sparse_categorical_accuracy: 0.6403 - val_loss: 1.8492 - val_sparse_categorical_accuracy: 0.5384\n",
            "Epoch 3/20\n",
            "108/108 [==============================] - 318s 3s/step - loss: 0.5964 - sparse_categorical_accuracy: 0.8489 - val_loss: 1.6955 - val_sparse_categorical_accuracy: 0.5763\n",
            "Epoch 4/20\n",
            "108/108 [==============================] - 318s 3s/step - loss: 0.2821 - sparse_categorical_accuracy: 0.9384 - val_loss: 1.6344 - val_sparse_categorical_accuracy: 0.5891\n",
            "Epoch 5/20\n",
            "108/108 [==============================] - 317s 3s/step - loss: 0.1622 - sparse_categorical_accuracy: 0.9741 - val_loss: 1.5963 - val_sparse_categorical_accuracy: 0.6015\n",
            "Epoch 6/20\n",
            "108/108 [==============================] - 315s 3s/step - loss: 0.1180 - sparse_categorical_accuracy: 0.9887 - val_loss: 1.5774 - val_sparse_categorical_accuracy: 0.6127\n",
            "Epoch 7/20\n",
            "  3/108 [..............................] - ETA: 4:25 - loss: 0.0827 - sparse_categorical_accuracy: 0.9896"
          ],
          "name": "stdout"
        },
        {
          "output_type": "error",
          "ename": "KeyboardInterrupt",
          "evalue": "ignored",
          "traceback": [
            "\u001b[0;31m---------------------------------------------------------------------------\u001b[0m",
            "\u001b[0;31mKeyboardInterrupt\u001b[0m                         Traceback (most recent call last)",
            "\u001b[0;32m<ipython-input-55-eed52e9fbc90>\u001b[0m in \u001b[0;36m<module>\u001b[0;34m()\u001b[0m\n\u001b[1;32m      4\u001b[0m     \u001b[0mlr\u001b[0m\u001b[0;34m=\u001b[0m\u001b[0;36m1e-4\u001b[0m\u001b[0;34m,\u001b[0m\u001b[0;34m\u001b[0m\u001b[0;34m\u001b[0m\u001b[0m\n\u001b[1;32m      5\u001b[0m     \u001b[0mepochs\u001b[0m\u001b[0;34m=\u001b[0m\u001b[0;36m20\u001b[0m\u001b[0;34m,\u001b[0m \u001b[0;31m#later starts to run here after finishes easing_epochs ;)\u001b[0m\u001b[0;34m\u001b[0m\u001b[0;34m\u001b[0m\u001b[0m\n\u001b[0;32m----> 6\u001b[0;31m     \u001b[0measing_epochs\u001b[0m\u001b[0;34m=\u001b[0m\u001b[0;36m0\u001b[0m \u001b[0;31m#here we should to change to 3 lets say, and that means it starts to train on 3 epochs and later to start other epochs mentioned in epochs\u001b[0m\u001b[0;34m\u001b[0m\u001b[0;34m\u001b[0m\u001b[0m\n\u001b[0m\u001b[1;32m      7\u001b[0m )\n\u001b[1;32m      8\u001b[0m  \u001b[0;31m# all the time we should start with that)\u001b[0m\u001b[0;34m\u001b[0m\u001b[0;34m\u001b[0m\u001b[0;34m\u001b[0m\u001b[0m\n",
            "\u001b[0;32m<ipython-input-52-f85d6eb25003>\u001b[0m in \u001b[0;36mtrain_model\u001b[0;34m(model, optimizer, lr, epochs, easing_epochs)\u001b[0m\n\u001b[1;32m     55\u001b[0m             \u001b[0mkeras\u001b[0m\u001b[0;34m.\u001b[0m\u001b[0mcallbacks\u001b[0m\u001b[0;34m.\u001b[0m\u001b[0mEarlyStopping\u001b[0m\u001b[0;34m(\u001b[0m\u001b[0mpatience\u001b[0m\u001b[0;34m=\u001b[0m\u001b[0mearly_stopping_patience\u001b[0m\u001b[0;34m,\u001b[0m \u001b[0mrestore_best_weights\u001b[0m\u001b[0;34m=\u001b[0m\u001b[0;32mTrue\u001b[0m\u001b[0;34m)\u001b[0m\u001b[0;34m,\u001b[0m\u001b[0;34m\u001b[0m\u001b[0;34m\u001b[0m\u001b[0m\n\u001b[1;32m     56\u001b[0m         ],\n\u001b[0;32m---> 57\u001b[0;31m         \u001b[0mverbose\u001b[0m\u001b[0;34m=\u001b[0m\u001b[0;36m1\u001b[0m\u001b[0;34m,\u001b[0m\u001b[0;34m\u001b[0m\u001b[0;34m\u001b[0m\u001b[0m\n\u001b[0m\u001b[1;32m     58\u001b[0m     )\n\u001b[1;32m     59\u001b[0m \u001b[0;34m\u001b[0m\u001b[0m\n",
            "\u001b[0;32m/usr/local/lib/python3.6/dist-packages/tensorflow/python/keras/engine/training.py\u001b[0m in \u001b[0;36mfit\u001b[0;34m(self, x, y, batch_size, epochs, verbose, callbacks, validation_split, validation_data, shuffle, class_weight, sample_weight, initial_epoch, steps_per_epoch, validation_steps, validation_freq, max_queue_size, workers, use_multiprocessing, **kwargs)\u001b[0m\n\u001b[1;32m    641\u001b[0m         \u001b[0mmax_queue_size\u001b[0m\u001b[0;34m=\u001b[0m\u001b[0mmax_queue_size\u001b[0m\u001b[0;34m,\u001b[0m\u001b[0;34m\u001b[0m\u001b[0;34m\u001b[0m\u001b[0m\n\u001b[1;32m    642\u001b[0m         \u001b[0mworkers\u001b[0m\u001b[0;34m=\u001b[0m\u001b[0mworkers\u001b[0m\u001b[0;34m,\u001b[0m\u001b[0;34m\u001b[0m\u001b[0;34m\u001b[0m\u001b[0m\n\u001b[0;32m--> 643\u001b[0;31m         use_multiprocessing=use_multiprocessing)\n\u001b[0m\u001b[1;32m    644\u001b[0m \u001b[0;34m\u001b[0m\u001b[0m\n\u001b[1;32m    645\u001b[0m   def evaluate(self,\n",
            "\u001b[0;32m/usr/local/lib/python3.6/dist-packages/tensorflow/python/keras/engine/training_generator.py\u001b[0m in \u001b[0;36mfit\u001b[0;34m(self, model, x, y, batch_size, epochs, verbose, callbacks, validation_split, validation_data, shuffle, class_weight, sample_weight, initial_epoch, steps_per_epoch, validation_steps, validation_freq, **kwargs)\u001b[0m\n\u001b[1;32m    692\u001b[0m         \u001b[0mshuffle\u001b[0m\u001b[0;34m=\u001b[0m\u001b[0mshuffle\u001b[0m\u001b[0;34m,\u001b[0m\u001b[0;34m\u001b[0m\u001b[0;34m\u001b[0m\u001b[0m\n\u001b[1;32m    693\u001b[0m         \u001b[0minitial_epoch\u001b[0m\u001b[0;34m=\u001b[0m\u001b[0minitial_epoch\u001b[0m\u001b[0;34m,\u001b[0m\u001b[0;34m\u001b[0m\u001b[0;34m\u001b[0m\u001b[0m\n\u001b[0;32m--> 694\u001b[0;31m         steps_name='steps_per_epoch')\n\u001b[0m\u001b[1;32m    695\u001b[0m \u001b[0;34m\u001b[0m\u001b[0m\n\u001b[1;32m    696\u001b[0m   def evaluate(self,\n",
            "\u001b[0;32m/usr/local/lib/python3.6/dist-packages/tensorflow/python/keras/engine/training_generator.py\u001b[0m in \u001b[0;36mmodel_iteration\u001b[0;34m(model, data, steps_per_epoch, epochs, verbose, callbacks, validation_data, validation_steps, validation_freq, class_weight, max_queue_size, workers, use_multiprocessing, shuffle, initial_epoch, mode, batch_size, steps_name, **kwargs)\u001b[0m\n\u001b[1;32m    262\u001b[0m \u001b[0;34m\u001b[0m\u001b[0m\n\u001b[1;32m    263\u001b[0m       \u001b[0mis_deferred\u001b[0m \u001b[0;34m=\u001b[0m \u001b[0;32mnot\u001b[0m \u001b[0mmodel\u001b[0m\u001b[0;34m.\u001b[0m\u001b[0m_is_compiled\u001b[0m\u001b[0;34m\u001b[0m\u001b[0;34m\u001b[0m\u001b[0m\n\u001b[0;32m--> 264\u001b[0;31m       \u001b[0mbatch_outs\u001b[0m \u001b[0;34m=\u001b[0m \u001b[0mbatch_function\u001b[0m\u001b[0;34m(\u001b[0m\u001b[0;34m*\u001b[0m\u001b[0mbatch_data\u001b[0m\u001b[0;34m)\u001b[0m\u001b[0;34m\u001b[0m\u001b[0;34m\u001b[0m\u001b[0m\n\u001b[0m\u001b[1;32m    265\u001b[0m       \u001b[0;32mif\u001b[0m \u001b[0;32mnot\u001b[0m \u001b[0misinstance\u001b[0m\u001b[0;34m(\u001b[0m\u001b[0mbatch_outs\u001b[0m\u001b[0;34m,\u001b[0m \u001b[0mlist\u001b[0m\u001b[0;34m)\u001b[0m\u001b[0;34m:\u001b[0m\u001b[0;34m\u001b[0m\u001b[0;34m\u001b[0m\u001b[0m\n\u001b[1;32m    266\u001b[0m         \u001b[0mbatch_outs\u001b[0m \u001b[0;34m=\u001b[0m \u001b[0;34m[\u001b[0m\u001b[0mbatch_outs\u001b[0m\u001b[0;34m]\u001b[0m\u001b[0;34m\u001b[0m\u001b[0;34m\u001b[0m\u001b[0m\n",
            "\u001b[0;32m/usr/local/lib/python3.6/dist-packages/tensorflow/python/keras/engine/training.py\u001b[0m in \u001b[0;36mtrain_on_batch\u001b[0;34m(self, x, y, sample_weight, class_weight, reset_metrics)\u001b[0m\n\u001b[1;32m    916\u001b[0m       \u001b[0mself\u001b[0m\u001b[0;34m.\u001b[0m\u001b[0m_update_sample_weight_modes\u001b[0m\u001b[0;34m(\u001b[0m\u001b[0msample_weights\u001b[0m\u001b[0;34m=\u001b[0m\u001b[0msample_weights\u001b[0m\u001b[0;34m)\u001b[0m\u001b[0;34m\u001b[0m\u001b[0;34m\u001b[0m\u001b[0m\n\u001b[1;32m    917\u001b[0m       \u001b[0mself\u001b[0m\u001b[0;34m.\u001b[0m\u001b[0m_make_train_function\u001b[0m\u001b[0;34m(\u001b[0m\u001b[0;34m)\u001b[0m\u001b[0;34m\u001b[0m\u001b[0;34m\u001b[0m\u001b[0m\n\u001b[0;32m--> 918\u001b[0;31m       \u001b[0moutputs\u001b[0m \u001b[0;34m=\u001b[0m \u001b[0mself\u001b[0m\u001b[0;34m.\u001b[0m\u001b[0mtrain_function\u001b[0m\u001b[0;34m(\u001b[0m\u001b[0mins\u001b[0m\u001b[0;34m)\u001b[0m  \u001b[0;31m# pylint: disable=not-callable\u001b[0m\u001b[0;34m\u001b[0m\u001b[0;34m\u001b[0m\u001b[0m\n\u001b[0m\u001b[1;32m    919\u001b[0m \u001b[0;34m\u001b[0m\u001b[0m\n\u001b[1;32m    920\u001b[0m     \u001b[0;32mif\u001b[0m \u001b[0mreset_metrics\u001b[0m\u001b[0;34m:\u001b[0m\u001b[0;34m\u001b[0m\u001b[0;34m\u001b[0m\u001b[0m\n",
            "\u001b[0;32m/usr/local/lib/python3.6/dist-packages/tensorflow/python/keras/backend.py\u001b[0m in \u001b[0;36m__call__\u001b[0;34m(self, inputs)\u001b[0m\n\u001b[1;32m   3508\u001b[0m         \u001b[0mvalue\u001b[0m \u001b[0;34m=\u001b[0m \u001b[0mmath_ops\u001b[0m\u001b[0;34m.\u001b[0m\u001b[0mcast\u001b[0m\u001b[0;34m(\u001b[0m\u001b[0mvalue\u001b[0m\u001b[0;34m,\u001b[0m \u001b[0mtensor\u001b[0m\u001b[0;34m.\u001b[0m\u001b[0mdtype\u001b[0m\u001b[0;34m)\u001b[0m\u001b[0;34m\u001b[0m\u001b[0;34m\u001b[0m\u001b[0m\n\u001b[1;32m   3509\u001b[0m       \u001b[0mconverted_inputs\u001b[0m\u001b[0;34m.\u001b[0m\u001b[0mappend\u001b[0m\u001b[0;34m(\u001b[0m\u001b[0mvalue\u001b[0m\u001b[0;34m)\u001b[0m\u001b[0;34m\u001b[0m\u001b[0;34m\u001b[0m\u001b[0m\n\u001b[0;32m-> 3510\u001b[0;31m     \u001b[0moutputs\u001b[0m \u001b[0;34m=\u001b[0m \u001b[0mself\u001b[0m\u001b[0;34m.\u001b[0m\u001b[0m_graph_fn\u001b[0m\u001b[0;34m(\u001b[0m\u001b[0;34m*\u001b[0m\u001b[0mconverted_inputs\u001b[0m\u001b[0;34m)\u001b[0m\u001b[0;34m\u001b[0m\u001b[0;34m\u001b[0m\u001b[0m\n\u001b[0m\u001b[1;32m   3511\u001b[0m \u001b[0;34m\u001b[0m\u001b[0m\n\u001b[1;32m   3512\u001b[0m     \u001b[0;31m# EagerTensor.numpy() will often make a copy to ensure memory safety.\u001b[0m\u001b[0;34m\u001b[0m\u001b[0;34m\u001b[0m\u001b[0;34m\u001b[0m\u001b[0m\n",
            "\u001b[0;32m/usr/local/lib/python3.6/dist-packages/tensorflow/python/eager/function.py\u001b[0m in \u001b[0;36m__call__\u001b[0;34m(self, *args, **kwargs)\u001b[0m\n\u001b[1;32m    570\u001b[0m       raise TypeError(\"Keyword arguments {} unknown. Expected {}.\".format(\n\u001b[1;32m    571\u001b[0m           list(kwargs.keys()), list(self._arg_keywords)))\n\u001b[0;32m--> 572\u001b[0;31m     \u001b[0;32mreturn\u001b[0m \u001b[0mself\u001b[0m\u001b[0;34m.\u001b[0m\u001b[0m_call_flat\u001b[0m\u001b[0;34m(\u001b[0m\u001b[0margs\u001b[0m\u001b[0;34m)\u001b[0m\u001b[0;34m\u001b[0m\u001b[0;34m\u001b[0m\u001b[0m\n\u001b[0m\u001b[1;32m    573\u001b[0m \u001b[0;34m\u001b[0m\u001b[0m\n\u001b[1;32m    574\u001b[0m   \u001b[0;32mdef\u001b[0m \u001b[0m_filtered_call\u001b[0m\u001b[0;34m(\u001b[0m\u001b[0mself\u001b[0m\u001b[0;34m,\u001b[0m \u001b[0margs\u001b[0m\u001b[0;34m,\u001b[0m \u001b[0mkwargs\u001b[0m\u001b[0;34m)\u001b[0m\u001b[0;34m:\u001b[0m\u001b[0;34m\u001b[0m\u001b[0;34m\u001b[0m\u001b[0m\n",
            "\u001b[0;32m/usr/local/lib/python3.6/dist-packages/tensorflow/python/eager/function.py\u001b[0m in \u001b[0;36m_call_flat\u001b[0;34m(self, args)\u001b[0m\n\u001b[1;32m    669\u001b[0m     \u001b[0;31m# Only need to override the gradient in graph mode and when we have outputs.\u001b[0m\u001b[0;34m\u001b[0m\u001b[0;34m\u001b[0m\u001b[0;34m\u001b[0m\u001b[0m\n\u001b[1;32m    670\u001b[0m     \u001b[0;32mif\u001b[0m \u001b[0mcontext\u001b[0m\u001b[0;34m.\u001b[0m\u001b[0mexecuting_eagerly\u001b[0m\u001b[0;34m(\u001b[0m\u001b[0;34m)\u001b[0m \u001b[0;32mor\u001b[0m \u001b[0;32mnot\u001b[0m \u001b[0mself\u001b[0m\u001b[0;34m.\u001b[0m\u001b[0moutputs\u001b[0m\u001b[0;34m:\u001b[0m\u001b[0;34m\u001b[0m\u001b[0;34m\u001b[0m\u001b[0m\n\u001b[0;32m--> 671\u001b[0;31m       \u001b[0moutputs\u001b[0m \u001b[0;34m=\u001b[0m \u001b[0mself\u001b[0m\u001b[0;34m.\u001b[0m\u001b[0m_inference_function\u001b[0m\u001b[0;34m.\u001b[0m\u001b[0mcall\u001b[0m\u001b[0;34m(\u001b[0m\u001b[0mctx\u001b[0m\u001b[0;34m,\u001b[0m \u001b[0margs\u001b[0m\u001b[0;34m)\u001b[0m\u001b[0;34m\u001b[0m\u001b[0;34m\u001b[0m\u001b[0m\n\u001b[0m\u001b[1;32m    672\u001b[0m     \u001b[0;32melse\u001b[0m\u001b[0;34m:\u001b[0m\u001b[0;34m\u001b[0m\u001b[0;34m\u001b[0m\u001b[0m\n\u001b[1;32m    673\u001b[0m       \u001b[0mself\u001b[0m\u001b[0;34m.\u001b[0m\u001b[0m_register_gradient\u001b[0m\u001b[0;34m(\u001b[0m\u001b[0;34m)\u001b[0m\u001b[0;34m\u001b[0m\u001b[0;34m\u001b[0m\u001b[0m\n",
            "\u001b[0;32m/usr/local/lib/python3.6/dist-packages/tensorflow/python/eager/function.py\u001b[0m in \u001b[0;36mcall\u001b[0;34m(self, ctx, args)\u001b[0m\n\u001b[1;32m    443\u001b[0m             attrs=(\"executor_type\", executor_type,\n\u001b[1;32m    444\u001b[0m                    \"config_proto\", config),\n\u001b[0;32m--> 445\u001b[0;31m             ctx=ctx)\n\u001b[0m\u001b[1;32m    446\u001b[0m       \u001b[0;31m# Replace empty list with None\u001b[0m\u001b[0;34m\u001b[0m\u001b[0;34m\u001b[0m\u001b[0;34m\u001b[0m\u001b[0m\n\u001b[1;32m    447\u001b[0m       \u001b[0moutputs\u001b[0m \u001b[0;34m=\u001b[0m \u001b[0moutputs\u001b[0m \u001b[0;32mor\u001b[0m \u001b[0;32mNone\u001b[0m\u001b[0;34m\u001b[0m\u001b[0;34m\u001b[0m\u001b[0m\n",
            "\u001b[0;32m/usr/local/lib/python3.6/dist-packages/tensorflow/python/eager/execute.py\u001b[0m in \u001b[0;36mquick_execute\u001b[0;34m(op_name, num_outputs, inputs, attrs, ctx, name)\u001b[0m\n\u001b[1;32m     59\u001b[0m     tensors = pywrap_tensorflow.TFE_Py_Execute(ctx._handle, device_name,\n\u001b[1;32m     60\u001b[0m                                                \u001b[0mop_name\u001b[0m\u001b[0;34m,\u001b[0m \u001b[0minputs\u001b[0m\u001b[0;34m,\u001b[0m \u001b[0mattrs\u001b[0m\u001b[0;34m,\u001b[0m\u001b[0;34m\u001b[0m\u001b[0;34m\u001b[0m\u001b[0m\n\u001b[0;32m---> 61\u001b[0;31m                                                num_outputs)\n\u001b[0m\u001b[1;32m     62\u001b[0m   \u001b[0;32mexcept\u001b[0m \u001b[0mcore\u001b[0m\u001b[0;34m.\u001b[0m\u001b[0m_NotOkStatusException\u001b[0m \u001b[0;32mas\u001b[0m \u001b[0me\u001b[0m\u001b[0;34m:\u001b[0m\u001b[0;34m\u001b[0m\u001b[0;34m\u001b[0m\u001b[0m\n\u001b[1;32m     63\u001b[0m     \u001b[0;32mif\u001b[0m \u001b[0mname\u001b[0m \u001b[0;32mis\u001b[0m \u001b[0;32mnot\u001b[0m \u001b[0;32mNone\u001b[0m\u001b[0;34m:\u001b[0m\u001b[0;34m\u001b[0m\u001b[0;34m\u001b[0m\u001b[0m\n",
            "\u001b[0;31mKeyboardInterrupt\u001b[0m: "
          ]
        }
      ]
    },
    {
      "cell_type": "markdown",
      "metadata": {
        "id": "iF1XIVB5hsNP",
        "colab_type": "text"
      },
      "source": [
        "Results of DL model using transfer learning:"
      ]
    },
    {
      "cell_type": "code",
      "metadata": {
        "id": "Nd0WxT8Lpivo",
        "colab_type": "code",
        "colab": {
          "base_uri": "https://localhost:8080/",
          "height": 70
        },
        "outputId": "139c9ee8-c9d1-4b7a-89f7-234e787a3c03"
      },
      "source": [
        "model.evaluate(val_dataset, steps=math.ceil(val_dataset_length/val_batch_size))"
      ],
      "execution_count": 56,
      "outputs": [
        {
          "output_type": "stream",
          "text": [
            "79/79 [==============================] - 46s 579ms/step - loss: 1.5821 - sparse_categorical_accuracy: 0.6111\n"
          ],
          "name": "stdout"
        },
        {
          "output_type": "execute_result",
          "data": {
            "text/plain": [
              "[1.5820559376402745, 0.6111111]"
            ]
          },
          "metadata": {
            "tags": []
          },
          "execution_count": 56
        }
      ]
    },
    {
      "cell_type": "code",
      "metadata": {
        "id": "59WMuZiqpisr",
        "colab_type": "code",
        "colab": {
          "base_uri": "https://localhost:8080/",
          "height": 70
        },
        "outputId": "aa2ca7c7-d1ba-4d08-e9fa-57ba2ae17bac"
      },
      "source": [
        "model.evaluate(test_dataset, steps=math.ceil(test_dataset_length/test_batch_size))"
      ],
      "execution_count": 57,
      "outputs": [
        {
          "output_type": "stream",
          "text": [
            "79/79 [==============================] - 46s 582ms/step - loss: 1.6178 - sparse_categorical_accuracy: 0.6135\n"
          ],
          "name": "stdout"
        },
        {
          "output_type": "execute_result",
          "data": {
            "text/plain": [
              "[1.6178259494938427, 0.6135092]"
            ]
          },
          "metadata": {
            "tags": []
          },
          "execution_count": 57
        }
      ]
    },
    {
      "cell_type": "code",
      "metadata": {
        "id": "SlrqYgEkk2z2",
        "colab_type": "code",
        "colab": {}
      },
      "source": [
        "val_predictions = model.predict(\n",
        "    val_dataset,\n",
        "    steps=math.ceil(val_dataset_length/val_batch_size),\n",
        ")"
      ],
      "execution_count": 0,
      "outputs": []
    },
    {
      "cell_type": "code",
      "metadata": {
        "id": "JSny47wtlnSb",
        "colab_type": "code",
        "colab": {}
      },
      "source": [
        "val_labels = np.concatenate([\n",
        "    y.numpy() for _, y in val_dataset.take(math.ceil(val_dataset_length/val_batch_size))\n",
        "])"
      ],
      "execution_count": 0,
      "outputs": []
    },
    {
      "cell_type": "code",
      "metadata": {
        "id": "0tVfkeQCkzoE",
        "colab_type": "code",
        "colab": {}
      },
      "source": [
        "print(classification_report(val_labels, val_predictions.argmax(axis=1)))"
      ],
      "execution_count": 0,
      "outputs": []
    },
    {
      "cell_type": "markdown",
      "metadata": {
        "id": "-2LWyQJQhd9b",
        "colab_type": "text"
      },
      "source": [
        "**4.2. The DL model using transfer learning, tunning (unfreezing)**"
      ]
    },
    {
      "cell_type": "code",
      "metadata": {
        "id": "OuKpbcCqpio1",
        "colab_type": "code",
        "colab": {}
      },
      "source": [
        "input_shape = IMG_DIMS + (3,)\n",
        "\n",
        "model = make_model(\n",
        "    n_classes=n_classes,\n",
        "    input_shape=input_shape,\n",
        "    dropout_rate=0.5,\n",
        "    l1=3e-6,\n",
        "    l2=3e-4,\n",
        ")\n"
      ],
      "execution_count": 0,
      "outputs": []
    },
    {
      "cell_type": "code",
      "metadata": {
        "id": "m4NO0sWMg1DU",
        "colab_type": "code",
        "colab": {
          "base_uri": "https://localhost:8080/",
          "height": 248
        },
        "outputId": "038ee2e8-bf4b-4602-cd05-ad1d8467905d"
      },
      "source": [
        "train_model(\n",
        "    model=model,\n",
        "    optimizer=keras.optimizers.Nadam,\n",
        "    lr=1e-4,\n",
        "    epochs=6,\n",
        "    easing_epochs=3,\n",
        ")"
      ],
      "execution_count": 112,
      "outputs": [
        {
          "output_type": "stream",
          "text": [
            "Epoch 1/6\n",
            "108/108 [==============================] - 188s 2s/step - loss: 3.9472 - sparse_categorical_accuracy: 0.1673 - val_loss: 3.1104 - val_sparse_categorical_accuracy: 0.2598\n",
            "Epoch 2/6\n",
            "108/108 [==============================] - 61s 561ms/step - loss: 2.2645 - sparse_categorical_accuracy: 0.4343 - val_loss: 2.6768 - val_sparse_categorical_accuracy: 0.3389\n",
            "Epoch 3/6\n",
            "108/108 [==============================] - 67s 621ms/step - loss: 1.3891 - sparse_categorical_accuracy: 0.6345 - val_loss: 2.4448 - val_sparse_categorical_accuracy: 0.4037\n",
            "Epoch 4/6\n",
            "108/108 [==============================] - 70s 644ms/step - loss: 0.8513 - sparse_categorical_accuracy: 0.7786 - val_loss: 2.4437 - val_sparse_categorical_accuracy: 0.4197\n",
            "Epoch 5/6\n",
            "108/108 [==============================] - 65s 603ms/step - loss: 0.5038 - sparse_categorical_accuracy: 0.8748 - val_loss: 2.4945 - val_sparse_categorical_accuracy: 0.4317\n",
            "Epoch 6/6\n",
            "108/108 [==============================] - 68s 632ms/step - loss: 0.3299 - sparse_categorical_accuracy: 0.9221 - val_loss: 2.5094 - val_sparse_categorical_accuracy: 0.4476\n"
          ],
          "name": "stdout"
        },
        {
          "output_type": "execute_result",
          "data": {
            "text/plain": [
              "<tensorflow.python.keras.callbacks.History at 0x7f6fd2480c50>"
            ]
          },
          "metadata": {
            "tags": []
          },
          "execution_count": 112
        }
      ]
    },
    {
      "cell_type": "markdown",
      "metadata": {
        "id": "8K7b3_RJhpgs",
        "colab_type": "text"
      },
      "source": [
        "Results DL model using transfer learning, tunning (unfreezing):"
      ]
    },
    {
      "cell_type": "code",
      "metadata": {
        "id": "l26SP1Wsl4dQ",
        "colab_type": "code",
        "colab": {}
      },
      "source": [
        "model.compile(\n",
        "    optimizer=keras.optimizers.SGD(1),\n",
        "    loss=keras.losses.sparse_categorical_crossentropy,\n",
        "    metrics=[\n",
        "        keras.metrics.sparse_categorical_accuracy,\n",
        "    ],\n",
        ")"
      ],
      "execution_count": 0,
      "outputs": []
    },
    {
      "cell_type": "code",
      "metadata": {
        "id": "GiW-H-_Pg4EJ",
        "colab_type": "code",
        "colab": {
          "base_uri": "https://localhost:8080/",
          "height": 70
        },
        "outputId": "65666f18-95c6-429f-ab24-df3769f6b9bb"
      },
      "source": [
        "model.evaluate(val_dataset, steps=math.ceil(val_dataset_length/val_batch_size))"
      ],
      "execution_count": 114,
      "outputs": [
        {
          "output_type": "stream",
          "text": [
            "40/40 [==============================] - 12s 312ms/step - loss: 2.5094 - sparse_categorical_accuracy: 0.4476\n"
          ],
          "name": "stdout"
        },
        {
          "output_type": "execute_result",
          "data": {
            "text/plain": [
              "[2.509400871396065, 0.44764188]"
            ]
          },
          "metadata": {
            "tags": []
          },
          "execution_count": 114
        }
      ]
    },
    {
      "cell_type": "code",
      "metadata": {
        "id": "JXxoJKrJl0-8",
        "colab_type": "code",
        "colab": {}
      },
      "source": [
        "val_predictions = model.predict(\n",
        "    val_dataset,\n",
        "    steps=math.ceil(val_dataset_length/val_batch_size),\n",
        ")"
      ],
      "execution_count": 0,
      "outputs": []
    },
    {
      "cell_type": "code",
      "metadata": {
        "id": "tuP4XHdRl03k",
        "colab_type": "code",
        "colab": {}
      },
      "source": [
        "val_labels = np.concatenate([\n",
        "    y.numpy() for _, y in val_dataset.take(math.ceil(val_dataset_length/val_batch_size))\n",
        "])"
      ],
      "execution_count": 0,
      "outputs": []
    },
    {
      "cell_type": "code",
      "metadata": {
        "id": "Ldka535Ql0ze",
        "colab_type": "code",
        "colab": {
          "base_uri": "https://localhost:8080/",
          "height": 976
        },
        "outputId": "a251e624-e021-47c6-c402-411623285e0c"
      },
      "source": [
        "print(classification_report(val_labels, val_predictions.argmax(axis=1)))"
      ],
      "execution_count": 117,
      "outputs": [
        {
          "output_type": "stream",
          "text": [
            "              precision    recall  f1-score   support\n",
            "\n",
            "         0.0       0.64      0.75      0.69        48\n",
            "         1.0       0.54      0.81      0.65        37\n",
            "         2.0       0.69      0.55      0.61        33\n",
            "         3.0       0.55      0.38      0.44        16\n",
            "         4.0       0.50      0.50      0.50        20\n",
            "         5.0       0.09      0.10      0.10        10\n",
            "         6.0       0.25      0.08      0.12        12\n",
            "         7.0       0.00      0.00      0.00         9\n",
            "         8.0       0.00      0.00      0.00        10\n",
            "         9.0       0.30      0.14      0.19        22\n",
            "        10.0       0.50      0.63      0.56        90\n",
            "        11.0       0.00      0.00      0.00        12\n",
            "        12.0       0.00      0.00      0.00         8\n",
            "        13.0       0.25      0.42      0.31        12\n",
            "        14.0       0.00      0.00      0.00         6\n",
            "        15.0       0.43      0.51      0.47        41\n",
            "        16.0       0.67      0.21      0.32        19\n",
            "        17.0       0.00      0.00      0.00         3\n",
            "        18.0       0.40      0.57      0.47        14\n",
            "        19.0       0.39      0.50      0.44        14\n",
            "        20.0       0.00      0.00      0.00        12\n",
            "        21.0       0.39      0.44      0.41        32\n",
            "        22.0       0.75      0.25      0.38        12\n",
            "        23.0       0.33      0.08      0.12        13\n",
            "        24.0       0.42      0.47      0.44        17\n",
            "        25.0       0.00      0.00      0.00         3\n",
            "        26.0       0.43      0.33      0.38         9\n",
            "        27.0       0.40      0.22      0.29        18\n",
            "        28.0       0.35      0.43      0.38        21\n",
            "        29.0       0.60      0.54      0.57        28\n",
            "        30.0       0.45      0.39      0.42        33\n",
            "        31.0       0.50      0.20      0.29         5\n",
            "        32.0       0.13      0.10      0.11        20\n",
            "        33.0       0.27      0.32      0.29        68\n",
            "        34.0       0.00      0.00      0.00         8\n",
            "        35.0       0.61      0.38      0.47        37\n",
            "        36.0       0.41      0.36      0.38        25\n",
            "        37.0       0.33      0.35      0.34        20\n",
            "        38.0       0.45      0.52      0.48        56\n",
            "        39.0       0.67      0.27      0.38        15\n",
            "        40.0       0.50      0.10      0.17        20\n",
            "        41.0       0.32      0.32      0.32        19\n",
            "        42.0       0.48      0.82      0.60        39\n",
            "        43.0       0.41      0.44      0.43        27\n",
            "        44.0       0.33      0.23      0.27        22\n",
            "        45.0       0.53      0.33      0.41        27\n",
            "        46.0       0.48      0.53      0.50        51\n",
            "        47.0       0.40      0.18      0.25        11\n",
            "        48.0       0.52      0.69      0.59       136\n",
            "        49.0       0.43      0.55      0.48        11\n",
            "\n",
            "    accuracy                           0.45      1251\n",
            "   macro avg       0.36      0.32      0.32      1251\n",
            "weighted avg       0.44      0.45      0.43      1251\n",
            "\n"
          ],
          "name": "stdout"
        },
        {
          "output_type": "stream",
          "text": [
            "/usr/local/lib/python3.6/dist-packages/sklearn/metrics/classification.py:1437: UndefinedMetricWarning: Precision and F-score are ill-defined and being set to 0.0 in labels with no predicted samples.\n",
            "  'precision', 'predicted', average, warn_for)\n"
          ],
          "name": "stderr"
        }
      ]
    },
    {
      "cell_type": "code",
      "metadata": {
        "id": "_C0axNYknaVp",
        "colab_type": "code",
        "colab": {}
      },
      "source": [
        "test_predictions = model.predict(\n",
        "    test_dataset,\n",
        "    steps=math.ceil(test_dataset_length/test_batch_size),\n",
        ")"
      ],
      "execution_count": 0,
      "outputs": []
    },
    {
      "cell_type": "code",
      "metadata": {
        "id": "8e7h_olrnaSO",
        "colab_type": "code",
        "colab": {}
      },
      "source": [
        "test_labels = np.concatenate([\n",
        "    y.numpy() for _, y in test_dataset.take(math.ceil(test_dataset_length/test_batch_size))\n",
        "])"
      ],
      "execution_count": 0,
      "outputs": []
    },
    {
      "cell_type": "code",
      "metadata": {
        "id": "UAPyrkBgnaO1",
        "colab_type": "code",
        "colab": {
          "base_uri": "https://localhost:8080/",
          "height": 976
        },
        "outputId": "2c442373-411c-45d9-d873-00f15716d29d"
      },
      "source": [
        "print(classification_report(test_labels, test_predictions.argmax(axis=1)))"
      ],
      "execution_count": 120,
      "outputs": [
        {
          "output_type": "stream",
          "text": [
            "              precision    recall  f1-score   support\n",
            "\n",
            "         0.0       0.76      0.79      0.78        57\n",
            "         1.0       0.54      0.68      0.60        40\n",
            "         2.0       0.86      0.61      0.72        31\n",
            "         3.0       0.27      0.15      0.19        20\n",
            "         4.0       0.46      0.31      0.37        39\n",
            "         5.0       0.27      0.31      0.29        13\n",
            "         6.0       0.20      0.22      0.21         9\n",
            "         7.0       0.00      0.00      0.00         5\n",
            "         8.0       0.50      0.09      0.15        11\n",
            "         9.0       0.20      0.06      0.10        16\n",
            "        10.0       0.52      0.59      0.55       109\n",
            "        11.0       0.14      0.14      0.14        14\n",
            "        12.0       0.17      0.08      0.11        13\n",
            "        13.0       0.32      0.33      0.32        18\n",
            "        14.0       0.00      0.00      0.00         2\n",
            "        15.0       0.48      0.52      0.50        44\n",
            "        16.0       0.67      0.36      0.47        22\n",
            "        17.0       0.50      0.14      0.22         7\n",
            "        18.0       0.58      0.46      0.51        24\n",
            "        19.0       0.08      0.06      0.07        16\n",
            "        20.0       0.33      0.17      0.22         6\n",
            "        21.0       0.29      0.50      0.37        20\n",
            "        22.0       0.57      0.33      0.42        12\n",
            "        23.0       0.00      0.00      0.00        14\n",
            "        24.0       0.36      0.45      0.40        20\n",
            "        25.0       0.67      0.67      0.67         3\n",
            "        26.0       0.17      0.17      0.17        12\n",
            "        27.0       0.21      0.23      0.22        13\n",
            "        28.0       0.12      0.33      0.18         9\n",
            "        29.0       0.23      0.20      0.21        15\n",
            "        30.0       0.48      0.33      0.39        36\n",
            "        31.0       0.40      0.33      0.36         6\n",
            "        32.0       0.24      0.19      0.21        26\n",
            "        33.0       0.40      0.40      0.40        68\n",
            "        34.0       0.00      0.00      0.00         7\n",
            "        35.0       0.62      0.32      0.42        57\n",
            "        36.0       0.45      0.53      0.49        32\n",
            "        37.0       0.28      0.41      0.33        17\n",
            "        38.0       0.49      0.49      0.49        61\n",
            "        39.0       0.11      0.11      0.11         9\n",
            "        40.0       0.62      0.24      0.34        21\n",
            "        41.0       0.37      0.53      0.43        19\n",
            "        42.0       0.45      0.73      0.56        30\n",
            "        43.0       0.31      0.50      0.38        20\n",
            "        44.0       0.38      0.15      0.21        20\n",
            "        45.0       0.47      0.39      0.43        23\n",
            "        46.0       0.39      0.52      0.45        29\n",
            "        47.0       0.62      0.50      0.56        10\n",
            "        48.0       0.45      0.69      0.54       119\n",
            "        49.0       0.67      0.29      0.40         7\n",
            "\n",
            "    accuracy                           0.44      1251\n",
            "   macro avg       0.37      0.33      0.33      1251\n",
            "weighted avg       0.44      0.44      0.43      1251\n",
            "\n"
          ],
          "name": "stdout"
        },
        {
          "output_type": "stream",
          "text": [
            "/usr/local/lib/python3.6/dist-packages/sklearn/metrics/classification.py:1437: UndefinedMetricWarning: Precision and F-score are ill-defined and being set to 0.0 in labels with no predicted samples.\n",
            "  'precision', 'predicted', average, warn_for)\n"
          ],
          "name": "stderr"
        }
      ]
    },
    {
      "cell_type": "markdown",
      "metadata": {
        "id": "AKynut6W0y8F",
        "colab_type": "text"
      },
      "source": [
        "**4.3. The DL model with hyperparameters search**"
      ]
    },
    {
      "cell_type": "code",
      "metadata": {
        "id": "aqMJtly8YHEp",
        "colab_type": "code",
        "colab": {}
      },
      "source": [
        "IMG_DIMS = (99, 99)"
      ],
      "execution_count": 0,
      "outputs": []
    },
    {
      "cell_type": "code",
      "metadata": {
        "id": "vvnxDofcLdcE",
        "colab_type": "code",
        "colab": {}
      },
      "source": [
        "train_dataset, train_dataset_length, train_batch_size = prepare_ds(\n",
        "    x=np.array([str(DATA_DIR/\"train\"/f\"{getattr(row, image_path_col)}\") for row in train_df.itertuples()]),\n",
        "    y=label_pipeline.transform(train_df[target_col]),\n",
        "    batch_size=32,\n",
        "    parse_fn=image_parse,\n",
        "    augment_fn=partial(augment, level=2),\n",
        "    mode=\"stretch\",\n",
        "    shuffle=True,\n",
        "    num_parallel_calls=2,\n",
        ")"
      ],
      "execution_count": 0,
      "outputs": []
    },
    {
      "cell_type": "code",
      "metadata": {
        "id": "l4R5nqT0Le3g",
        "colab_type": "code",
        "colab": {}
      },
      "source": [
        "val_dataset, val_dataset_length, val_batch_size = prepare_ds(\n",
        "    x=np.array([str(DATA_DIR/\"test\"/f\"{getattr(row, image_path_col)}\") for row in val_df.itertuples()]),\n",
        "    y=label_pipeline.transform(val_df[target_col]),\n",
        "    batch_size=32,\n",
        "    parse_fn=image_parse,\n",
        "    augment_fn=augment,\n",
        "    mode=\"stretch\",\n",
        "    shuffle=False,\n",
        "    num_parallel_calls=2,\n",
        ")"
      ],
      "execution_count": 0,
      "outputs": []
    },
    {
      "cell_type": "code",
      "metadata": {
        "id": "hX_V9Vl2Lere",
        "colab_type": "code",
        "colab": {}
      },
      "source": [
        "test_dataset, test_dataset_length, test_batch_size = prepare_ds(\n",
        "    x=np.array([str(DATA_DIR/\"test\"/f\"{getattr(row, image_path_col)}\") for row in test_df.itertuples()]),\n",
        "    y=label_pipeline.transform(test_df[target_col]),\n",
        "    batch_size=32,\n",
        "    parse_fn=image_parse,\n",
        "    augment_fn=augment,\n",
        "    mode=\"stretch\",\n",
        "    shuffle=False,\n",
        "    num_parallel_calls=2,\n",
        ")"
      ],
      "execution_count": 0,
      "outputs": []
    },
    {
      "cell_type": "code",
      "metadata": {
        "id": "Ft4M-LKgznsL",
        "colab_type": "code",
        "colab": {}
      },
      "source": [
        "dimensions = [\n",
        "    skopt.space.Categorical([\n",
        "        keras.optimizers.Adam,\n",
        "        keras.optimizers.Nadam,\n",
        "        keras.optimizers.RMSprop,\n",
        "    ], name='optimizer'),\n",
        "    skopt.space.Real(low=1e-6, high=1e-4, prior='log-uniform', name='lr'),\n",
        "    skopt.space.Real(low=0., high=0.5, name='dropout'),\n",
        "    skopt.space.Real(low=1e-8, high=1e-2, prior='log-uniform', name='l1_reg'),\n",
        "    skopt.space.Real(low=1e-8, high=1e-2, prior='log-uniform', name='l2_reg'),\n",
        "    skopt.space.Integer(low=2, high=6, name='epochs'),\n",
        "    skopt.space.Integer(low=0, high=2, name='easing_epochs'),\n",
        "]"
      ],
      "execution_count": 0,
      "outputs": []
    },
    {
      "cell_type": "code",
      "metadata": {
        "id": "2rfBGropzuAc",
        "colab_type": "code",
        "colab": {}
      },
      "source": [
        "default_parameters = [keras.optimizers.Nadam, 1e-5, 0.5, 1e-5, 1e-6, 4, 0]"
      ],
      "execution_count": 0,
      "outputs": []
    },
    {
      "cell_type": "code",
      "metadata": {
        "id": "nZtWOSCKzwbf",
        "colab_type": "code",
        "colab": {}
      },
      "source": [
        "best_accuracy = 0.0\n",
        "best_model_arch_path = str(SAVE_DIR/'best_model.json')\n",
        "best_model_weights_path = str(SAVE_DIR/'best_model.h5')"
      ],
      "execution_count": 0,
      "outputs": []
    },
    {
      "cell_type": "markdown",
      "metadata": {
        "id": "gX9tnu5e5Bd0",
        "colab_type": "text"
      },
      "source": [
        "\n",
        "\n"
      ]
    },
    {
      "cell_type": "code",
      "metadata": {
        "id": "pOfgG229XrPH",
        "colab_type": "code",
        "colab": {}
      },
      "source": [
        "input_shape = IMG_DIMS + (3,)\n",
        "\n",
        "@skopt.utils.use_named_args(dimensions=dimensions)\n",
        "def fitness(\n",
        "    optimizer,\n",
        "    lr,\n",
        "    dropout,\n",
        "    l1_reg,\n",
        "    l2_reg,\n",
        "    epochs,\n",
        "    easing_epochs,\n",
        "):  \n",
        "    model = make_model(\n",
        "        n_classes,\n",
        "        input_shape,\n",
        "        dropout,\n",
        "        l1_reg,\n",
        "        l2_reg,\n",
        "    )\n",
        "    \n",
        "    history = train_model(model, optimizer, lr, epochs, easing_epochs)\n",
        "\n",
        "    accuracy = max(history.history[\"val_sparse_categorical_accuracy\"])\n",
        "\n",
        "    print(\"\\nAccuracy: {0:.2%}\\n\".format(accuracy))\n",
        "\n",
        "    global best_accuracy\n",
        "\n",
        "    if accuracy > best_accuracy:\n",
        "        print('Best model'.center(80, '-'))\n",
        "        print(\"Accuracy: {0:.4%}\".format(accuracy))\n",
        "        print(\n",
        "            optimizer,\n",
        "            lr,\n",
        "            dropout,\n",
        "            l1_reg,\n",
        "            l2_reg,\n",
        "            epochs,\n",
        "            easing_epochs,\n",
        "        )\n",
        "        model.save_weights(best_model_weights_path)\n",
        "        with open(best_model_arch_path, \"w\") as f:\n",
        "            f.write(model.to_json())\n",
        "        best_accuracy = accuracy\n",
        "\n",
        "    del model\n",
        "\n",
        "    keras.backend.clear_session()\n",
        "\n",
        "    return -accuracy"
      ],
      "execution_count": 0,
      "outputs": []
    },
    {
      "cell_type": "code",
      "metadata": {
        "id": "6q3yGRl0XrPL",
        "colab_type": "code",
        "outputId": "a5985d7a-c6bf-464f-9162-ced1bd07e794",
        "colab": {
          "base_uri": "https://localhost:8080/",
          "height": 330
        }
      },
      "source": [
        "search_result = skopt.gp_minimize(\n",
        "    func=fitness,\n",
        "    dimensions=dimensions,\n",
        "    acq_func='EI',\n",
        "    n_calls=11,\n",
        "    x0=default_parameters,\n",
        ")"
      ],
      "execution_count": 0,
      "outputs": [
        {
          "output_type": "stream",
          "text": [
            "Epoch 1/4\n",
            "84/84 [==============================] - 233s 3s/step - loss: 5.4954 - sparse_categorical_accuracy: 0.0248 - val_loss: 4.0571 - val_sparse_categorical_accuracy: 0.0310\n",
            "Epoch 2/4\n",
            "84/84 [==============================] - 96s 1s/step - loss: 5.0472 - sparse_categorical_accuracy: 0.0338 - val_loss: 4.0609 - val_sparse_categorical_accuracy: 0.0447\n",
            "Epoch 3/4\n",
            "84/84 [==============================] - 112s 1s/step - loss: 4.6021 - sparse_categorical_accuracy: 0.0550 - val_loss: 4.0309 - val_sparse_categorical_accuracy: 0.0831\n",
            "Epoch 4/4\n",
            "84/84 [==============================] - 112s 1s/step - loss: 4.3830 - sparse_categorical_accuracy: 0.0697 - val_loss: 3.9828 - val_sparse_categorical_accuracy: 0.1140\n",
            "\n",
            "Accuracy: 11.40%\n",
            "\n",
            "-----------------------------------Best model-----------------------------------\n",
            "Accuracy: 11.4028%\n",
            "<class 'tensorflow.python.keras.optimizer_v2.nadam.Nadam'> 1e-05 0.5 1e-05 1e-06 4 0\n",
            "Epoch 1/2\n",
            "84/84 [==============================] - 184s 2s/step - loss: 3.9973 - sparse_categorical_accuracy: 0.0963 - val_loss: 15.8020 - val_sparse_categorical_accuracy: 0.0239\n",
            "Epoch 2/2\n",
            "83/84 [============================>.] - ETA: 0s - loss: 3.7083 - sparse_categorical_accuracy: 0.0982"
          ],
          "name": "stdout"
        }
      ]
    },
    {
      "cell_type": "markdown",
      "metadata": {
        "id": "vHZTMmthmxyj",
        "colab_type": "text"
      },
      "source": [
        "Loading the model and testing how our model is predicting on test dataset"
      ]
    },
    {
      "cell_type": "code",
      "metadata": {
        "id": "vfSymJYIXrPO",
        "colab_type": "code",
        "colab": {}
      },
      "source": [
        "def load_model(arch, weights):\n",
        "    with open(arch, \"r\") as f:\n",
        "        model = keras.models.model_from_json(f.read())\n",
        "    model.load_weights(weights)\n",
        "    return model"
      ],
      "execution_count": 0,
      "outputs": []
    },
    {
      "cell_type": "code",
      "metadata": {
        "id": "XVwW2-5IXrPQ",
        "colab_type": "code",
        "colab": {}
      },
      "source": [
        "model = load_model(best_model_arch_path, best_model_weights_path)"
      ],
      "execution_count": 0,
      "outputs": []
    },
    {
      "cell_type": "code",
      "metadata": {
        "id": "EV9NsARaXrPS",
        "colab_type": "code",
        "colab": {}
      },
      "source": [
        "model.compile(\n",
        "    optimizer=keras.optimizers.SGD(1),\n",
        "    loss=keras.losses.sparse_categorical_crossentropy,\n",
        "    metrics=[\n",
        "        keras.metrics.sparse_categorical_accuracy,\n",
        "    ],\n",
        ")"
      ],
      "execution_count": 0,
      "outputs": []
    },
    {
      "cell_type": "code",
      "metadata": {
        "id": "KoEROy8_XrPU",
        "colab_type": "code",
        "colab": {
          "base_uri": "https://localhost:8080/",
          "height": 70
        },
        "outputId": "88452749-5e63-4fe9-c84e-182c28037951"
      },
      "source": [
        "model.evaluate(val_dataset, steps=math.ceil(val_dataset_length/val_batch_size))"
      ],
      "execution_count": 129,
      "outputs": [
        {
          "output_type": "stream",
          "text": [
            "40/40 [==============================] - 13s 314ms/step - loss: 3.7459 - sparse_categorical_accuracy: 0.1423\n"
          ],
          "name": "stdout"
        },
        {
          "output_type": "execute_result",
          "data": {
            "text/plain": [
              "[3.7458761394023896, 0.14228617]"
            ]
          },
          "metadata": {
            "tags": []
          },
          "execution_count": 129
        }
      ]
    },
    {
      "cell_type": "code",
      "metadata": {
        "id": "zynYuBb1XrPW",
        "colab_type": "code",
        "colab": {}
      },
      "source": [
        "val_predictions = model.predict(\n",
        "    val_dataset,\n",
        "    steps=math.ceil(val_dataset_length/val_batch_size),\n",
        ")"
      ],
      "execution_count": 0,
      "outputs": []
    },
    {
      "cell_type": "code",
      "metadata": {
        "id": "TCB6b_E2XrPa",
        "colab_type": "code",
        "colab": {}
      },
      "source": [
        "val_labels = np.concatenate([\n",
        "    y.numpy() for _, y in val_dataset.take(math.ceil(val_dataset_length/val_batch_size))\n",
        "])"
      ],
      "execution_count": 0,
      "outputs": []
    },
    {
      "cell_type": "code",
      "metadata": {
        "id": "bnk2jcRUXrPg",
        "colab_type": "code",
        "colab": {
          "base_uri": "https://localhost:8080/",
          "height": 943
        },
        "outputId": "d2faac27-6991-4fce-91fa-6f110880cf5f"
      },
      "source": [
        "print(classification_report(val_labels, val_predictions.argmax(axis=1)))"
      ],
      "execution_count": 132,
      "outputs": [
        {
          "output_type": "stream",
          "text": [
            "              precision    recall  f1-score   support\n",
            "\n",
            "         0.0       0.24      0.50      0.33        48\n",
            "         1.0       0.18      0.24      0.21        37\n",
            "         2.0       0.14      0.58      0.23        33\n",
            "         3.0       0.09      0.06      0.07        16\n",
            "         4.0       0.20      0.10      0.13        20\n",
            "         5.0       0.00      0.00      0.00        10\n",
            "         6.0       0.00      0.00      0.00        12\n",
            "         7.0       0.00      0.00      0.00         9\n",
            "         8.0       0.00      0.00      0.00        10\n",
            "         9.0       0.15      0.18      0.16        22\n",
            "        10.0       0.46      0.19      0.27        90\n",
            "        11.0       0.00      0.00      0.00        12\n",
            "        12.0       0.04      0.12      0.06         8\n",
            "        13.0       0.06      0.08      0.07        12\n",
            "        14.0       0.00      0.00      0.00         6\n",
            "        15.0       0.32      0.20      0.24        41\n",
            "        16.0       0.04      0.05      0.04        19\n",
            "        17.0       0.00      0.00      0.00         3\n",
            "        18.0       0.18      0.14      0.16        14\n",
            "        19.0       0.00      0.00      0.00        14\n",
            "        20.0       0.00      0.00      0.00        12\n",
            "        21.0       0.08      0.09      0.09        32\n",
            "        22.0       0.06      0.08      0.07        12\n",
            "        23.0       0.00      0.00      0.00        13\n",
            "        24.0       0.00      0.00      0.00        17\n",
            "        25.0       0.00      0.00      0.00         3\n",
            "        26.0       0.00      0.00      0.00         9\n",
            "        27.0       0.24      0.22      0.23        18\n",
            "        28.0       0.00      0.00      0.00        21\n",
            "        29.0       0.50      0.14      0.22        28\n",
            "        30.0       0.15      0.09      0.11        33\n",
            "        31.0       0.00      0.00      0.00         5\n",
            "        32.0       0.05      0.05      0.05        20\n",
            "        33.0       0.17      0.19      0.18        68\n",
            "        34.0       0.00      0.00      0.00         8\n",
            "        35.0       0.05      0.03      0.03        37\n",
            "        36.0       0.13      0.16      0.15        25\n",
            "        37.0       0.00      0.00      0.00        20\n",
            "        38.0       0.34      0.18      0.24        56\n",
            "        39.0       0.14      0.13      0.14        15\n",
            "        40.0       0.00      0.00      0.00        20\n",
            "        41.0       0.05      0.05      0.05        19\n",
            "        42.0       0.22      0.15      0.18        39\n",
            "        43.0       0.11      0.04      0.06        27\n",
            "        44.0       0.00      0.00      0.00        22\n",
            "        45.0       0.09      0.07      0.08        27\n",
            "        46.0       0.11      0.04      0.06        51\n",
            "        47.0       0.00      0.00      0.00        11\n",
            "        48.0       0.23      0.23      0.23       136\n",
            "        49.0       0.00      0.00      0.00        11\n",
            "\n",
            "    accuracy                           0.14      1251\n",
            "   macro avg       0.10      0.09      0.08      1251\n",
            "weighted avg       0.17      0.14      0.14      1251\n",
            "\n"
          ],
          "name": "stdout"
        }
      ]
    },
    {
      "cell_type": "code",
      "metadata": {
        "id": "okaX1irvXrPn",
        "colab_type": "code",
        "colab": {}
      },
      "source": [
        "test_predictions = model.predict(\n",
        "    test_dataset,\n",
        "    steps=math.ceil(test_dataset_length/test_batch_size),\n",
        ")"
      ],
      "execution_count": 0,
      "outputs": []
    },
    {
      "cell_type": "code",
      "metadata": {
        "id": "zt5hhmoJXrPr",
        "colab_type": "code",
        "colab": {}
      },
      "source": [
        "test_labels = np.concatenate([\n",
        "    y.numpy() for _, y in test_dataset.take(math.ceil(test_dataset_length/test_batch_size))\n",
        "])"
      ],
      "execution_count": 0,
      "outputs": []
    },
    {
      "cell_type": "code",
      "metadata": {
        "id": "9KjnJucEXrPx",
        "colab_type": "code",
        "colab": {
          "base_uri": "https://localhost:8080/",
          "height": 943
        },
        "outputId": "b6cc2ca6-25e5-4190-c277-823536a1438d"
      },
      "source": [
        "print(classification_report(test_labels, test_predictions.argmax(axis=1)))"
      ],
      "execution_count": 135,
      "outputs": [
        {
          "output_type": "stream",
          "text": [
            "              precision    recall  f1-score   support\n",
            "\n",
            "         0.0       0.25      0.49      0.33        57\n",
            "         1.0       0.16      0.15      0.16        40\n",
            "         2.0       0.15      0.61      0.24        31\n",
            "         3.0       0.06      0.05      0.06        20\n",
            "         4.0       0.22      0.10      0.14        39\n",
            "         5.0       0.00      0.00      0.00        13\n",
            "         6.0       0.00      0.00      0.00         9\n",
            "         7.0       0.00      0.00      0.00         5\n",
            "         8.0       0.05      0.09      0.06        11\n",
            "         9.0       0.04      0.06      0.05        16\n",
            "        10.0       0.32      0.14      0.19       109\n",
            "        11.0       0.06      0.07      0.06        14\n",
            "        12.0       0.06      0.08      0.07        13\n",
            "        13.0       0.00      0.00      0.00        18\n",
            "        14.0       0.00      0.00      0.00         2\n",
            "        15.0       0.13      0.09      0.11        44\n",
            "        16.0       0.04      0.05      0.04        22\n",
            "        17.0       0.00      0.00      0.00         7\n",
            "        18.0       0.14      0.08      0.11        24\n",
            "        19.0       0.00      0.00      0.00        16\n",
            "        20.0       0.05      0.17      0.07         6\n",
            "        21.0       0.00      0.00      0.00        20\n",
            "        22.0       0.00      0.00      0.00        12\n",
            "        23.0       0.00      0.00      0.00        14\n",
            "        24.0       0.08      0.05      0.06        20\n",
            "        25.0       0.00      0.00      0.00         3\n",
            "        26.0       0.14      0.08      0.11        12\n",
            "        27.0       0.07      0.08      0.07        13\n",
            "        28.0       0.00      0.00      0.00         9\n",
            "        29.0       0.00      0.00      0.00        15\n",
            "        30.0       0.10      0.08      0.09        36\n",
            "        31.0       0.00      0.00      0.00         6\n",
            "        32.0       0.07      0.04      0.05        26\n",
            "        33.0       0.24      0.26      0.25        68\n",
            "        34.0       0.00      0.00      0.00         7\n",
            "        35.0       0.05      0.02      0.03        57\n",
            "        36.0       0.14      0.09      0.11        32\n",
            "        37.0       0.20      0.06      0.09        17\n",
            "        38.0       0.22      0.16      0.19        61\n",
            "        39.0       0.00      0.00      0.00         9\n",
            "        40.0       0.00      0.00      0.00        21\n",
            "        41.0       0.04      0.05      0.04        19\n",
            "        42.0       0.17      0.13      0.15        30\n",
            "        43.0       0.00      0.00      0.00        20\n",
            "        44.0       0.08      0.05      0.06        20\n",
            "        45.0       0.03      0.04      0.04        23\n",
            "        46.0       0.09      0.03      0.05        29\n",
            "        47.0       0.00      0.00      0.00        10\n",
            "        48.0       0.20      0.22      0.21       119\n",
            "        49.0       0.00      0.00      0.00         7\n",
            "\n",
            "    accuracy                           0.13      1251\n",
            "   macro avg       0.07      0.07      0.07      1251\n",
            "weighted avg       0.13      0.13      0.12      1251\n",
            "\n"
          ],
          "name": "stdout"
        }
      ]
    },
    {
      "cell_type": "code",
      "metadata": {
        "id": "_tz3pvwhmini",
        "colab_type": "code",
        "colab": {
          "base_uri": "https://localhost:8080/",
          "height": 158
        },
        "outputId": "31ba346e-07e9-43e1-8335-7f96dd89e878"
      },
      "source": [
        "{key.name: value for key, value in zip(dimensions, search_result.x)}"
      ],
      "execution_count": 138,
      "outputs": [
        {
          "output_type": "error",
          "ename": "NameError",
          "evalue": "ignored",
          "traceback": [
            "\u001b[0;31m---------------------------------------------------------------------------\u001b[0m",
            "\u001b[0;31mNameError\u001b[0m                                 Traceback (most recent call last)",
            "\u001b[0;32m<ipython-input-138-1dd1c0d8d049>\u001b[0m in \u001b[0;36m<module>\u001b[0;34m()\u001b[0m\n\u001b[0;32m----> 1\u001b[0;31m \u001b[0;34m{\u001b[0m\u001b[0mkey\u001b[0m\u001b[0;34m.\u001b[0m\u001b[0mname\u001b[0m\u001b[0;34m:\u001b[0m \u001b[0mvalue\u001b[0m \u001b[0;32mfor\u001b[0m \u001b[0mkey\u001b[0m\u001b[0;34m,\u001b[0m \u001b[0mvalue\u001b[0m \u001b[0;32min\u001b[0m \u001b[0mzip\u001b[0m\u001b[0;34m(\u001b[0m\u001b[0mdimensions\u001b[0m\u001b[0;34m,\u001b[0m \u001b[0msearch_result\u001b[0m\u001b[0;34m.\u001b[0m\u001b[0mx\u001b[0m\u001b[0;34m)\u001b[0m\u001b[0;34m}\u001b[0m\u001b[0;34m\u001b[0m\u001b[0;34m\u001b[0m\u001b[0m\n\u001b[0m",
            "\u001b[0;31mNameError\u001b[0m: name 'search_result' is not defined"
          ]
        }
      ]
    },
    {
      "cell_type": "markdown",
      "metadata": {
        "id": "YsfevEQipWck",
        "colab_type": "text"
      },
      "source": [
        "**4.4. The DL model with transfer learing, augmentation, flip, and crop**"
      ]
    },
    {
      "cell_type": "code",
      "metadata": {
        "id": "YwPPbwtRXrP0",
        "colab_type": "code",
        "colab": {}
      },
      "source": [
        "# IMG_DIMS = (299, 299)"
      ],
      "execution_count": 0,
      "outputs": []
    },
    {
      "cell_type": "code",
      "metadata": {
        "id": "U3CMBhEBXrP3",
        "colab_type": "code",
        "colab": {}
      },
      "source": [
        "train_dataset, train_dataset_length, train_batch_size = prepare_ds(\n",
        "    x=np.array([str(DATA_DIR/\"train\"/f\"{getattr(row, image_path_col)}\") for row in train_df.itertuples()]),\n",
        "    y=label_pipeline.transform(train_df[target_col]),\n",
        "    batch_size=16,\n",
        "    parse_fn=image_parse,\n",
        "    augment_fn=partial(augment, flips=\"both\", level=2),\n",
        "    mode=\"crop\",\n",
        "    shuffle=True,\n",
        "    num_parallel_calls=2,\n",
        ")"
      ],
      "execution_count": 0,
      "outputs": []
    },
    {
      "cell_type": "code",
      "metadata": {
        "id": "-jtP_7e3XrP6",
        "colab_type": "code",
        "colab": {}
      },
      "source": [
        "val_dataset, val_dataset_length, val_batch_size = prepare_ds(\n",
        "    x=np.array([str(DATA_DIR/\"test\"/f\"{getattr(row, image_path_col)}\") for row in val_df.itertuples()]),\n",
        "    y=label_pipeline.transform(val_df[target_col]),\n",
        "    batch_size=16,\n",
        "    parse_fn=image_parse,\n",
        "    augment_fn=augment,\n",
        "    mode=\"crop\",\n",
        "    shuffle=False,\n",
        "    num_parallel_calls=2,\n",
        ")"
      ],
      "execution_count": 0,
      "outputs": []
    },
    {
      "cell_type": "code",
      "metadata": {
        "id": "TC7WaXgkXrP7",
        "colab_type": "code",
        "colab": {}
      },
      "source": [
        "test_dataset, test_dataset_length, test_batch_size = prepare_ds(\n",
        "    x=np.array([str(DATA_DIR/\"test\"/f\"{getattr(row, image_path_col)}\") for row in test_df.itertuples()]),\n",
        "    y=label_pipeline.transform(test_df[target_col]),\n",
        "    batch_size=16,\n",
        "    parse_fn=image_parse,\n",
        "    augment_fn=augment,\n",
        "    mode=\"crop\",\n",
        "    shuffle=False,\n",
        "    num_parallel_calls=2,\n",
        ")"
      ],
      "execution_count": 0,
      "outputs": []
    },
    {
      "cell_type": "code",
      "metadata": {
        "id": "gj8eCHSsXrQA",
        "colab_type": "code",
        "colab": {}
      },
      "source": [
        "input_shape = IMG_DIMS + (3,)\n",
        "\n",
        "model = make_model(\n",
        "    n_classes=n_classes,\n",
        "    input_shape=input_shape,\n",
        "    dropout_rate=0.5,\n",
        "    l1=3e-6,\n",
        "    l2=3e-4,\n",
        ")"
      ],
      "execution_count": 0,
      "outputs": []
    },
    {
      "cell_type": "code",
      "metadata": {
        "id": "sWdcX1pUXrQC",
        "colab_type": "code",
        "colab": {
          "base_uri": "https://localhost:8080/",
          "height": 248
        },
        "outputId": "f5966878-c9be-4832-b918-507f6ed645b6"
      },
      "source": [
        "train_model(\n",
        "    model=model,\n",
        "    optimizer=keras.optimizers.Nadam,\n",
        "    lr=1e-4,\n",
        "    epochs=6,\n",
        "    easing_epochs=0,\n",
        ")"
      ],
      "execution_count": 146,
      "outputs": [
        {
          "output_type": "stream",
          "text": [
            "Epoch 1/6\n",
            "216/216 [==============================] - 227s 1s/step - loss: 4.7246 - sparse_categorical_accuracy: 0.0726 - val_loss: 3.6547 - val_sparse_categorical_accuracy: 0.1543\n",
            "Epoch 2/6\n",
            "216/216 [==============================] - 75s 346ms/step - loss: 3.9789 - sparse_categorical_accuracy: 0.1517 - val_loss: 3.5272 - val_sparse_categorical_accuracy: 0.1359\n",
            "Epoch 3/6\n",
            "216/216 [==============================] - 87s 402ms/step - loss: 3.4766 - sparse_categorical_accuracy: 0.1976 - val_loss: 3.2878 - val_sparse_categorical_accuracy: 0.2070\n",
            "Epoch 4/6\n",
            "216/216 [==============================] - 87s 402ms/step - loss: 3.1000 - sparse_categorical_accuracy: 0.2673 - val_loss: 3.1073 - val_sparse_categorical_accuracy: 0.2638\n",
            "Epoch 5/6\n",
            "216/216 [==============================] - 88s 405ms/step - loss: 2.7488 - sparse_categorical_accuracy: 0.3402 - val_loss: 2.9977 - val_sparse_categorical_accuracy: 0.2870\n",
            "Epoch 6/6\n",
            "216/216 [==============================] - 86s 397ms/step - loss: 2.4709 - sparse_categorical_accuracy: 0.3847 - val_loss: 2.8381 - val_sparse_categorical_accuracy: 0.3102\n"
          ],
          "name": "stdout"
        },
        {
          "output_type": "execute_result",
          "data": {
            "text/plain": [
              "<tensorflow.python.keras.callbacks.History at 0x7f6dcad5bbe0>"
            ]
          },
          "metadata": {
            "tags": []
          },
          "execution_count": 146
        }
      ]
    },
    {
      "cell_type": "code",
      "metadata": {
        "id": "ZdLs8pNbXrQG",
        "colab_type": "code",
        "colab": {
          "base_uri": "https://localhost:8080/",
          "height": 70
        },
        "outputId": "c2f24d87-d1ea-4e1c-8fc8-e47d50eeeb14"
      },
      "source": [
        "model.evaluate(val_dataset, steps=math.ceil(val_dataset_length/val_batch_size))"
      ],
      "execution_count": 147,
      "outputs": [
        {
          "output_type": "stream",
          "text": [
            "79/79 [==============================] - 10s 132ms/step - loss: 2.8381 - sparse_categorical_accuracy: 0.3102\n"
          ],
          "name": "stdout"
        },
        {
          "output_type": "execute_result",
          "data": {
            "text/plain": [
              "[2.8380639100376563, 0.31015188]"
            ]
          },
          "metadata": {
            "tags": []
          },
          "execution_count": 147
        }
      ]
    },
    {
      "cell_type": "code",
      "metadata": {
        "id": "J8QyDnCQXrQK",
        "colab_type": "code",
        "colab": {
          "base_uri": "https://localhost:8080/",
          "height": 70
        },
        "outputId": "9fd97dbe-1752-459c-f5d5-5f45e943c59a"
      },
      "source": [
        "model.evaluate(test_dataset, steps=math.ceil(test_dataset_length/test_batch_size))"
      ],
      "execution_count": 148,
      "outputs": [
        {
          "output_type": "stream",
          "text": [
            "79/79 [==============================] - 10s 132ms/step - loss: 2.7458 - sparse_categorical_accuracy: 0.3413\n"
          ],
          "name": "stdout"
        },
        {
          "output_type": "execute_result",
          "data": {
            "text/plain": [
              "[2.745793861678884, 0.34132695]"
            ]
          },
          "metadata": {
            "tags": []
          },
          "execution_count": 148
        }
      ]
    },
    {
      "cell_type": "code",
      "metadata": {
        "id": "YGFFLA1MqHdv",
        "colab_type": "code",
        "colab": {}
      },
      "source": [
        "val_predictions = model.predict(\n",
        "    val_dataset,\n",
        "    steps=math.ceil(val_dataset_length/val_batch_size),\n",
        ")"
      ],
      "execution_count": 0,
      "outputs": []
    },
    {
      "cell_type": "code",
      "metadata": {
        "id": "TGY_TQdmqHag",
        "colab_type": "code",
        "colab": {}
      },
      "source": [
        "val_labels = np.concatenate([\n",
        "    y.numpy() for _, y in val_dataset.take(math.ceil(val_dataset_length/val_batch_size))\n",
        "])"
      ],
      "execution_count": 0,
      "outputs": []
    },
    {
      "cell_type": "code",
      "metadata": {
        "id": "BpytqM6JqHXb",
        "colab_type": "code",
        "colab": {
          "base_uri": "https://localhost:8080/",
          "height": 996
        },
        "outputId": "68e76834-69fa-4b7b-e3ca-8389c63ee218"
      },
      "source": [
        "print(classification_report(val_labels, val_predictions.argmax(axis=1)))"
      ],
      "execution_count": 151,
      "outputs": [
        {
          "output_type": "stream",
          "text": [
            "              precision    recall  f1-score   support\n",
            "\n",
            "         0.0       0.57      0.85      0.68        48\n",
            "         1.0       0.24      0.70      0.35        37\n",
            "         2.0       0.27      0.55      0.36        33\n",
            "         3.0       0.00      0.00      0.00        16\n",
            "         4.0       0.29      0.45      0.35        20\n",
            "         5.0       0.06      0.10      0.07        10\n",
            "         6.0       0.00      0.00      0.00        12\n",
            "         7.0       0.00      0.00      0.00         9\n",
            "         8.0       0.25      0.10      0.14        10\n",
            "         9.0       0.33      0.05      0.08        22\n",
            "        10.0       0.32      0.39      0.35        90\n",
            "        11.0       0.04      0.08      0.05        12\n",
            "        12.0       0.00      0.00      0.00         8\n",
            "        13.0       0.40      0.33      0.36        12\n",
            "        14.0       0.00      0.00      0.00         6\n",
            "        15.0       0.28      0.37      0.32        41\n",
            "        16.0       0.22      0.11      0.14        19\n",
            "        17.0       0.00      0.00      0.00         3\n",
            "        18.0       0.19      0.36      0.24        14\n",
            "        19.0       0.40      0.14      0.21        14\n",
            "        20.0       0.00      0.00      0.00        12\n",
            "        21.0       0.40      0.19      0.26        32\n",
            "        22.0       0.50      0.08      0.14        12\n",
            "        23.0       0.00      0.00      0.00        13\n",
            "        24.0       0.00      0.00      0.00        17\n",
            "        25.0       0.00      0.00      0.00         3\n",
            "        26.0       0.33      0.11      0.17         9\n",
            "        27.0       0.36      0.22      0.28        18\n",
            "        28.0       0.50      0.14      0.22        21\n",
            "        29.0       0.38      0.36      0.37        28\n",
            "        30.0       0.30      0.27      0.29        33\n",
            "        31.0       0.00      0.00      0.00         5\n",
            "        32.0       0.30      0.15      0.20        20\n",
            "        33.0       0.30      0.19      0.23        68\n",
            "        34.0       0.17      0.12      0.14         8\n",
            "        35.0       0.21      0.22      0.21        37\n",
            "        36.0       0.20      0.24      0.22        25\n",
            "        37.0       0.29      0.20      0.24        20\n",
            "        38.0       0.48      0.45      0.46        56\n",
            "        39.0       0.43      0.20      0.27        15\n",
            "        40.0       0.00      0.00      0.00        20\n",
            "        41.0       0.33      0.21      0.26        19\n",
            "        42.0       0.29      0.33      0.31        39\n",
            "        43.0       0.18      0.37      0.24        27\n",
            "        44.0       0.43      0.27      0.33        22\n",
            "        45.0       0.13      0.07      0.10        27\n",
            "        46.0       0.22      0.12      0.15        51\n",
            "        47.0       0.07      0.09      0.08        11\n",
            "        48.0       0.44      0.64      0.52       136\n",
            "        49.0       0.50      0.09      0.15        11\n",
            "\n",
            "    accuracy                           0.31      1251\n",
            "   macro avg       0.23      0.20      0.19      1251\n",
            "weighted avg       0.30      0.31      0.28      1251\n",
            "\n"
          ],
          "name": "stdout"
        },
        {
          "output_type": "stream",
          "text": [
            "/usr/local/lib/python3.6/dist-packages/sklearn/metrics/classification.py:1437: UndefinedMetricWarning: Precision and F-score are ill-defined and being set to 0.0 in labels with no predicted samples.\n",
            "  'precision', 'predicted', average, warn_for)\n"
          ],
          "name": "stderr"
        }
      ]
    },
    {
      "cell_type": "code",
      "metadata": {
        "id": "5Bvw70LOqHT-",
        "colab_type": "code",
        "colab": {}
      },
      "source": [
        "test_predictions = model.predict(\n",
        "    test_dataset,\n",
        "    steps=math.ceil(test_dataset_length/test_batch_size),\n",
        ")"
      ],
      "execution_count": 0,
      "outputs": []
    },
    {
      "cell_type": "code",
      "metadata": {
        "id": "1IFZTgADqHQh",
        "colab_type": "code",
        "colab": {}
      },
      "source": [
        "test_labels = np.concatenate([\n",
        "    y.numpy() for _, y in test_dataset.take(math.ceil(test_dataset_length/test_batch_size))\n",
        "])"
      ],
      "execution_count": 0,
      "outputs": []
    },
    {
      "cell_type": "code",
      "metadata": {
        "id": "RTk8IKpeqHGy",
        "colab_type": "code",
        "colab": {
          "base_uri": "https://localhost:8080/",
          "height": 996
        },
        "outputId": "2da2fbe8-66cc-499c-b9b3-213eab0d320f"
      },
      "source": [
        "print(classification_report(test_labels, test_predictions.argmax(axis=1)))"
      ],
      "execution_count": 154,
      "outputs": [
        {
          "output_type": "stream",
          "text": [
            "              precision    recall  f1-score   support\n",
            "\n",
            "         0.0       0.78      0.86      0.82        57\n",
            "         1.0       0.26      0.78      0.39        40\n",
            "         2.0       0.26      0.39      0.31        31\n",
            "         3.0       0.00      0.00      0.00        20\n",
            "         4.0       0.45      0.44      0.44        39\n",
            "         5.0       0.00      0.00      0.00        13\n",
            "         6.0       0.00      0.00      0.00         9\n",
            "         7.0       0.00      0.00      0.00         5\n",
            "         8.0       0.17      0.09      0.12        11\n",
            "         9.0       0.40      0.12      0.19        16\n",
            "        10.0       0.37      0.37      0.37       109\n",
            "        11.0       0.00      0.00      0.00        14\n",
            "        12.0       0.00      0.00      0.00        13\n",
            "        13.0       0.43      0.33      0.38        18\n",
            "        14.0       0.00      0.00      0.00         2\n",
            "        15.0       0.33      0.32      0.33        44\n",
            "        16.0       0.67      0.18      0.29        22\n",
            "        17.0       0.00      0.00      0.00         7\n",
            "        18.0       0.39      0.50      0.44        24\n",
            "        19.0       0.33      0.06      0.11        16\n",
            "        20.0       0.00      0.00      0.00         6\n",
            "        21.0       0.35      0.35      0.35        20\n",
            "        22.0       0.00      0.00      0.00        12\n",
            "        23.0       0.00      0.00      0.00        14\n",
            "        24.0       0.23      0.25      0.24        20\n",
            "        25.0       0.00      0.00      0.00         3\n",
            "        26.0       0.20      0.17      0.18        12\n",
            "        27.0       0.19      0.23      0.21        13\n",
            "        28.0       0.00      0.00      0.00         9\n",
            "        29.0       0.14      0.27      0.18        15\n",
            "        30.0       0.40      0.47      0.43        36\n",
            "        31.0       0.14      0.17      0.15         6\n",
            "        32.0       0.33      0.12      0.17        26\n",
            "        33.0       0.33      0.22      0.27        68\n",
            "        34.0       0.00      0.00      0.00         7\n",
            "        35.0       0.45      0.35      0.40        57\n",
            "        36.0       0.22      0.25      0.24        32\n",
            "        37.0       0.29      0.29      0.29        17\n",
            "        38.0       0.47      0.41      0.44        61\n",
            "        39.0       0.00      0.00      0.00         9\n",
            "        40.0       0.71      0.24      0.36        21\n",
            "        41.0       0.15      0.11      0.12        19\n",
            "        42.0       0.29      0.37      0.32        30\n",
            "        43.0       0.11      0.30      0.16        20\n",
            "        44.0       0.47      0.35      0.40        20\n",
            "        45.0       0.22      0.09      0.12        23\n",
            "        46.0       0.20      0.17      0.19        29\n",
            "        47.0       0.07      0.10      0.08        10\n",
            "        48.0       0.43      0.71      0.54       119\n",
            "        49.0       0.00      0.00      0.00         7\n",
            "\n",
            "    accuracy                           0.34      1251\n",
            "   macro avg       0.22      0.21      0.20      1251\n",
            "weighted avg       0.33      0.34      0.32      1251\n",
            "\n"
          ],
          "name": "stdout"
        },
        {
          "output_type": "stream",
          "text": [
            "/usr/local/lib/python3.6/dist-packages/sklearn/metrics/classification.py:1437: UndefinedMetricWarning: Precision and F-score are ill-defined and being set to 0.0 in labels with no predicted samples.\n",
            "  'precision', 'predicted', average, warn_for)\n"
          ],
          "name": "stderr"
        }
      ]
    },
    {
      "cell_type": "code",
      "metadata": {
        "id": "onr59mFV4qwy",
        "colab_type": "code",
        "colab": {}
      },
      "source": [
        ""
      ],
      "execution_count": 0,
      "outputs": []
    },
    {
      "cell_type": "markdown",
      "metadata": {
        "id": "_sWhvkPeqYeL",
        "colab_type": "text"
      },
      "source": [
        "## Summary\n",
        "\n",
        "The best Accuracy we got with 4.1. The DL model using transfer learning:\n",
        "- transfer model: Xception\n",
        "- batch_size=32\n",
        "- image size: 299*299\n",
        "- mode=\"stretch\"\n",
        "- no flips\n",
        "- optimizer:Nadam\n",
        "- lr: 1e-4\n",
        "- dropout:0.5\n",
        "- l1:3e-6\n",
        "- l2:3e-4\n",
        "- no tunning (unfreezing)\n",
        "\n",
        "We use other hyper parameters:\n",
        "- augmentation: flips\n",
        "- mode=\"crop\"\n",
        "- optimizers: Adam, SGD\n",
        "- lr - 1e-3 to 3e-6\n",
        "- dropout: 0.2-0.6\n",
        "- l1: 1e-8 to 3e-4\n",
        "- l2: 1e-8 to 3e-5\n",
        "- unfreezing\n",
        "- different image sizes: 99*99, 299*299\n",
        "- transfer models: MobileNetV2 (image 96*96, 244*244)\n",
        "\n",
        "No of above mentioned combinations didnt let to gt better results.\n",
        "Also on cearching for hyperparameters 8 times of 10 **crashed coolab, so could not run more than 6 epochs!!!**"
      ]
    },
    {
      "cell_type": "code",
      "metadata": {
        "id": "7fGUJHxc6rPu",
        "colab_type": "code",
        "colab": {}
      },
      "source": [
        ""
      ],
      "execution_count": 0,
      "outputs": []
    }
  ]
}